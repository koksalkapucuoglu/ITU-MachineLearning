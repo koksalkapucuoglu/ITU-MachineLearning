{
 "cells": [
  {
   "cell_type": "code",
   "execution_count": 1,
   "metadata": {},
   "outputs": [],
   "source": [
    "#Köksal Kapucuoğlu\n",
    "#########################\n",
    "import numpy as np\n",
    "import pandas as pd\n",
    "import matplotlib.pyplot as plt\n",
    "import matplotlib\n",
    "import math\n",
    "import random\n",
    "#import any other non-machine learning modules that you wish\n",
    "#SHORTCUTS: Alt + Enter includes new cell below, CTRL + Enter executes the current cell\n",
    "##########################\n",
    "df1 = pd.read_csv(\"train1.csv\")\n",
    "df2 = pd.read_csv(\"train2.csv\") \n",
    "df2m = pd.read_csv(\"train2_modified.csv\") #will be used in Part D"
   ]
  },
  {
   "cell_type": "code",
   "execution_count": 2,
   "metadata": {},
   "outputs": [
    {
     "name": "stdout",
     "output_type": "stream",
     "text": [
      "           x1        x2  y\n",
      "0   -0.260234  2.767817  0\n",
      "1    3.466190  6.054691  1\n",
      "2   -2.036224  4.491902  0\n",
      "3    2.434426  6.638656  1\n",
      "4   -0.541338  3.210246  0\n",
      "..        ...       ... ..\n",
      "195  1.832132  6.247191  1\n",
      "196  1.215533  5.750448  1\n",
      "197 -0.464053  3.034393  0\n",
      "198  2.638937  5.043589  1\n",
      "199 -0.439450  3.853694  0\n",
      "\n",
      "[200 rows x 3 columns]\n"
     ]
    }
   ],
   "source": [
    "#By printing a dataframe, you can view the data in csv format\n",
    "print(df1) # x1 and x2 are features and y is label.\n"
   ]
  },
  {
   "cell_type": "code",
   "execution_count": 3,
   "metadata": {},
   "outputs": [
    {
     "name": "stdout",
     "output_type": "stream",
     "text": [
      "Index(['x1', 'x2', 'y'], dtype='object')\n"
     ]
    }
   ],
   "source": [
    "#You can extract keys from dataframe, which you can use to extract features or labels.\n",
    "print(df1.keys())\n",
    "df1_x1 = df1['x1']\n",
    "df1_x2 = df1['x2']\n",
    "#To extract data as numpy array:\n",
    "df1_numpy = df1.values\n",
    "#You can also extract a specific feature as numpy array as well.\n",
    "df1_x1_numpy = df1['x1'].values"
   ]
  },
  {
   "cell_type": "code",
   "execution_count": 4,
   "metadata": {},
   "outputs": [],
   "source": [
    "class Train:\n",
    "    def __init__(self, df):\n",
    "        self.df_c1 = df[df['y']==0] #get class1 for  set, [x1 x2 y]\n",
    "        self.df_c2 = df[df['y']==1] #get class2 for  set, [x1 x2 y]\n",
    "        self.X_c1 = pd.DataFrame(self.df_c1, columns = ['x1', 'x2']) #features of class1 at  set, [x1 x2]\n",
    "        self.X_c2 = pd.DataFrame(self.df_c2, columns = ['x1', 'x2']) #features of class2 at  set, [x1 x2]\n",
    "        self.N_c1 = self.X_c1.shape[0] # samples number of class1 at  set\n",
    "        self.N_c2 = self.X_c2.shape[0] # samples number of class2 at  set\n",
    "        self.X = pd.DataFrame(df, columns = ['x1', 'x2']) #features of  set [x1 x2]\n",
    "        self.y = pd.DataFrame(df, columns = ['y']) #label of  set [y]\n",
    "        self.N = df.shape[0] # samples number of set\n",
    "        \n",
    "        mean_vctr_c1 = np.mean(self.X_c1, axis=0) #calculate mean vector for class1\n",
    "        self.mu_c1 = pd.DataFrame(data=mean_vctr_c1)\n",
    "        mean_vctr_c2 = np.mean(self.X_c2, axis=0) #calculate mean vector for class2\n",
    "        self.mu_c2 = pd.DataFrame(data=mean_vctr_c2)\n",
    "        \n",
    "        self.covmat_c1 = self.calcovmat(self.X_c1, self.N_c1) #calculate covariant matrix for class1\n",
    "        self.covmat_c2 = self.calcovmat(self.X_c2, self.N_c2) #calculate covariant matrix for class2\n",
    "        \n",
    "        \n",
    "        self.p_c1 = self.N_c1 / self.N #calculate p(ci) for class 1\n",
    "        self.p_c2 = self.N_c2 / self.N #calculate p(ci) for class 2\n",
    "        \n",
    "    def calculatevariance(self, Xi, N): #Xi =  i.th feature column, N = number of samples\n",
    "        Xim=np.average(Xi)  #get mean, same function as np.mean(Xi, axis=0)\n",
    "        var = 0.0\n",
    "        for i in range(N):\n",
    "            var = ((Xi.values[i] - Xim)**2) + var\n",
    "        return  (1./(N))*var\n",
    "    \n",
    "    \n",
    "    #covariance(xi,xi) = variance(xi)\n",
    "    def calculatecovariance(self,Xi, Xk, N):#Xi =  i.th feature column, Xk =  k.th feature column, N = number of samples\n",
    "        Xim=np.average(Xi) \n",
    "        Xkm=np.average(Xk)\n",
    "        cov = 0.0\n",
    "        for i in range(N):\n",
    "            cov = (Xi.values[i]-Xim)*(Xk.values[i]-Xkm) + cov\n",
    "        return  (1./(N))*cov\n",
    "    \n",
    "    def calcovmat(self,Xi,N):\n",
    "        varx1 = self.calculatevariance(Xi[\"x1\"], N)\n",
    "        varx2 = self.calculatevariance(Xi[\"x2\"], N)\n",
    "        covx1x2 = self.calculatecovariance(Xi[\"x1\"],Xi[\"x2\"], N)\n",
    "        covx2x1 = self.calculatecovariance(Xi[\"x2\"],Xi[\"x1\"], N)\n",
    "        cov_mtrx = [[varx1,covx1x2],[covx2x1,varx2]]\n",
    "        cov_mtrx = pd.DataFrame(data = np.array(cov_mtrx))\n",
    "        return cov_mtrx\n",
    "    \n",
    "    def mu_list(self): \n",
    "        self.mu_list = []\n",
    "        self.mu_list.append(self.mu_c1 )\n",
    "        self.mu_list.append(self.mu_c2 )\n",
    "        return self.mu_list\n",
    "    \n",
    "    def covmat_list(self): \n",
    "        self.covmat_list = []\n",
    "        self.covmat_list.append(self.covmat_c1 )\n",
    "        self.covmat_list.append(self.covmat_c2 )\n",
    "        return self.covmat_list\n",
    "    \n",
    "    def p_list(self): \n",
    "        self.p_list = []\n",
    "        self.p_list.append(self.p_c1 )\n",
    "        self.p_list.append(self.p_c2 )\n",
    "        return self.p_list"
   ]
  },
  {
   "cell_type": "code",
   "execution_count": 5,
   "metadata": {},
   "outputs": [],
   "source": [
    "#to Train train1 set\n",
    "train1 = Train(df1)\n",
    "X1_c1 = train1.X_c1\n",
    "X1_c2 = train1.X_c2\n",
    "N1_c1 = train1.N_c1\n",
    "N1_c2 = train1.N_c2\n",
    "p1_c1 = train1.p_c1\n",
    "p1_c2 = train1.p_c2\n",
    "\n",
    "covmat1_c1 = train1.calcovmat(X1_c1, N1_c1)\n",
    "covmat1_c2 = train1.calcovmat(X1_c2, N1_c2)\n",
    "\n",
    "mulist1 = train1.mu_list()\n",
    "covmatlist1 = train1.covmat_list()\n",
    "plist1 = train1.p_list()\n",
    "\n",
    "#to Train train2 set\n",
    "train2 = Train(df2)\n",
    "X2_c1 = train2.X_c1\n",
    "X2_c2 = train2.X_c2\n",
    "N2_c1 = train2.N_c1\n",
    "N2_c2 = train2.N_c2\n",
    "p2_c1 = train2.p_c1\n",
    "p2_c2 = train2.p_c2\n",
    "\n",
    "covmat2_c1 = train2.calcovmat(X2_c1, N2_c1)\n",
    "covmat2_c2= train2.calcovmat(X2_c2, N2_c2)\n",
    "\n",
    "mulist2 = train2.mu_list()\n",
    "covmatlist2 = train2.covmat_list()\n",
    "plist2 = train2.p_list()\n"
   ]
  },
  {
   "cell_type": "code",
   "execution_count": 6,
   "metadata": {},
   "outputs": [
    {
     "name": "stdout",
     "output_type": "stream",
     "text": [
      "[[ 1.13557089 -0.37320387]\n",
      " [-0.37320387  2.08327195]]\n",
      "*******************************\n",
      "[[ 1.13557089 -0.37320387]\n",
      " [-0.37320387  2.08327195]]\n",
      "*******************************\n",
      "[[1.91970895 0.85690451]\n",
      " [0.85690451 2.83579458]]\n",
      "*******************************\n",
      "[[ 0.99645235 -0.81777973]\n",
      " [-0.81777973  2.94594199]]\n"
     ]
    }
   ],
   "source": [
    "print(covmat1_c1.values)\n",
    "print(\"*******************************\")\n",
    "print(covmat1_c2.values)\n",
    "print(\"*******************************\")\n",
    "print(covmat2_c1.values)\n",
    "print(\"*******************************\")\n",
    "print(covmat2_c2.values)"
   ]
  },
  {
   "cell_type": "code",
   "execution_count": 7,
   "metadata": {},
   "outputs": [
    {
     "data": {
      "image/png": "[encoded data removed]",
      "text/plain": [
       "<Figure size 432x288 with 2 Axes>"
      ]
     },
     "metadata": {
      "needs_background": "light"
     },
     "output_type": "display_data"
    },
    {
     "data": {
      "image/png": "[encoded data removed]",
      "text/plain": [
       "<Figure size 432x288 with 2 Axes>"
      ]
     },
     "metadata": {
      "needs_background": "light"
     },
     "output_type": "display_data"
    },
    {
     "data": {
      "image/png": "[encoded data removed]",
      "text/plain": [
       "<Figure size 432x288 with 2 Axes>"
      ]
     },
     "metadata": {
      "needs_background": "light"
     },
     "output_type": "display_data"
    },
    {
     "data": {
      "image/png": "[encoded data removed]",
      "text/plain": [
       "<Figure size 432x288 with 2 Axes>"
      ]
     },
     "metadata": {
      "needs_background": "light"
     },
     "output_type": "display_data"
    }
   ],
   "source": [
    "#PART A: Examine training sets here. plots etc.\n",
    "#Hint: df1_class0 = df1[df1['column_name']==0] creates a new dataframe and includes samples (rows) whose class values are 0\n",
    "#hint: for data distribution plots use plt.scatter(x-axis,y-axis,other params. check online)\n",
    "#Hint: for each new plot use plt.figure() so they won't overlap, one on top of another\n",
    "#-------\n",
    "#to plot cov. matrices you may use following code: (compute 'cov_mtrx' by yourself)\n",
    "alpha = ['x1', 'x2']\n",
    "fig = plt.figure()\n",
    "ax = fig.add_subplot(111)\n",
    "cax = ax.matshow(covmat1_c1,interpolation='nearest') #cov. matrix of dataset1\n",
    "fig.colorbar(cax)\n",
    "ax.set_xticklabels(['']+alpha)\n",
    "ax.set_yticklabels(['']+alpha)\n",
    "ax.set_title(\"Covariance Matrix of class1 at df1\")\n",
    "plt.show()\n",
    "\n",
    "alpha = ['x1', 'x2']\n",
    "fig = plt.figure()\n",
    "ax = fig.add_subplot(111)\n",
    "cax = ax.matshow(covmat1_c2,interpolation='nearest') #cov. matrix of dataset1\n",
    "fig.colorbar(cax)\n",
    "ax.set_xticklabels(['']+alpha)\n",
    "ax.set_yticklabels(['']+alpha)\n",
    "ax.set_title(\"Covariance Matrix of class2 at df1\")\n",
    "plt.show()\n",
    "\n",
    "alpha = ['x1', 'x2']\n",
    "fig = plt.figure()\n",
    "ax = fig.add_subplot(111)\n",
    "cax = ax.matshow(covmat2_c1,interpolation='nearest') #cov. matrix of dataset1\n",
    "fig.colorbar(cax)\n",
    "ax.set_xticklabels(['']+alpha)\n",
    "ax.set_yticklabels(['']+alpha)\n",
    "ax.set_title(\"Covariance Matrix of class1 at df2\")\n",
    "plt.show()\n",
    "\n",
    "alpha = ['x1', 'x2']\n",
    "fig = plt.figure()\n",
    "ax = fig.add_subplot(111)\n",
    "cax = ax.matshow(covmat2_c2,interpolation='nearest') #cov. matrix of dataset1\n",
    "fig.colorbar(cax)\n",
    "ax.set_xticklabels(['']+alpha)\n",
    "ax.set_yticklabels(['']+alpha)\n",
    "ax.set_title(\"Covariance Matrix of class2 at df2\")\n",
    "plt.show()\n",
    "#---------\n",
    "#for the histogram plots use plt.hist() (Remember: 4 of them we want)\n",
    "#for title use: plt.gca().set(title='Data distribution of feature x of trainingSet y', ylabel='Frequency')"
   ]
  },
  {
   "cell_type": "markdown",
   "metadata": {},
   "source": [
    "# A-1\n",
    "\n",
    "variance of variable describes how much it is spread out.\n",
    "var(xi) > var(xj): feature xi more spread out than feature xj\n",
    "\n",
    "covariance measures the amount of dependency between x1 and x2 varirables.\n",
    "cov(xi,xj) = 0: these features are indepentend,uncorrelated. So (xi,xj) points are in the form of balls scattered all over. \n",
    "\n",
    "\n",
    "## for class1 at train1\n",
    "\n",
    "Because of var(x2)>var(x1)(feature x2 has higher variance than feature x2), feature x2 more spread out than feature x1.\n",
    "Because of cov(x1,x2) or cov(x2,x1)<0(actually very close to zero) features have negative correlations.\n",
    "\n",
    "## for class2 at train1\n",
    "\n",
    "Because of var(x2)>var(x1)(feature x2 has higher variance than feature x2), feature x2 more spread out than feature x1.\n",
    "Because of cov(x1,x2) or cov(x2,x1)<0(actually very close to zero) features have negative correlations. \n",
    "\n",
    "## for class1 at train2\n",
    "\n",
    "Because of var(x2)>var(x1)(feature x2 has higher variance than feature x2), feature x2 more spread out than feature x1.\n",
    "Because of cov(x1,x2) or cov(x2,x1)>0, features have positive correlations. \n",
    "\n",
    "## for class2 at train2\n",
    "\n",
    "Because of var(x2)>var(x1)(feature x2 has higher variance than feature x2), feature x2 more spread out than feature x1.\n",
    "Because of cov(x1,x2) or cov(x2,x1)<0, features have negative correlations. \n",
    "\n",
    "\n",
    "## Result\n",
    "\n",
    "at train1, covariance values < 0 but they are very close to zero. So (x1,x2) points both negative correlation and scattered. This may see in A-3.figure\n",
    "\n",
    "at train2, for class1, features have positive correlations but for class2 have negative correlations. This is clearly seen in A-3.figure\n"
   ]
  },
  {
   "cell_type": "code",
   "execution_count": 8,
   "metadata": {
    "scrolled": false
   },
   "outputs": [
    {
     "data": {
      "image/png": "[encoded data removed]",
      "text/plain": [
       "<Figure size 432x288 with 1 Axes>"
      ]
     },
     "metadata": {
      "needs_background": "light"
     },
     "output_type": "display_data"
    },
    {
     "data": {
      "image/png": "[encoded data removed]",
      "text/plain": [
       "<Figure size 432x288 with 1 Axes>"
      ]
     },
     "metadata": {
      "needs_background": "light"
     },
     "output_type": "display_data"
    },
    {
     "data": {
      "image/png": "[encoded data removed]",
      "text/plain": [
       "<Figure size 432x288 with 1 Axes>"
      ]
     },
     "metadata": {
      "needs_background": "light"
     },
     "output_type": "display_data"
    },
    {
     "data": {
      "image/png": "[encoded data removed]",
      "text/plain": [
       "<Figure size 432x288 with 1 Axes>"
      ]
     },
     "metadata": {
      "needs_background": "light"
     },
     "output_type": "display_data"
    }
   ],
   "source": [
    "bins = np.linspace(-3, 7.5)\n",
    "plt.hist(X1_c1[\"x1\"], bins, alpha=0.5, label='c1',color = 'r')\n",
    "plt.hist(X1_c2[\"x1\"], bins, alpha=0.5, label='c2', color='b')\n",
    "plt.gca().set(title='Data distribution of feature x1 of trainingSet 1', ylabel='Frequency')\n",
    "plt.legend(loc='upper right')\n",
    "plt.show()\n",
    "\n",
    "plt.hist(X1_c1[\"x2\"], bins, alpha=0.5, label='c1', color=\"r\")\n",
    "plt.hist(X1_c2[\"x2\"], bins, alpha=0.5, label='c2', color=\"b\")\n",
    "plt.gca().set(title='Data distribution of feature x2 of trainingSet 1', ylabel='Frequency')\n",
    "plt.legend(loc='upper right')\n",
    "plt.show()\n",
    "\n",
    "plt.hist(X2_c1[\"x1\"], bins, alpha=0.5, label='c1', color=\"r\")\n",
    "plt.hist(X2_c2[\"x1\"], bins, alpha=0.5, label='c2', color=\"b\")\n",
    "plt.gca().set(title='Data distribution of feature x1 of trainingSet 2', ylabel='Frequency')\n",
    "plt.legend(loc='upper right')\n",
    "plt.show()\n",
    "\n",
    "plt.hist(X2_c1[\"x2\"], bins, alpha=0.5, label='c1', color=\"r\")\n",
    "plt.hist(X2_c2[\"x2\"], bins, alpha=0.5, label='c2', color=\"b\")\n",
    "plt.gca().set(title='Data distribution of feature x2 of trainingSet 2', ylabel='Frequency')\n",
    "#plt.title(\"Histogram of x2 feature at df2\")\n",
    "plt.legend(loc='upper right')\n",
    "plt.show()"
   ]
  },
  {
   "cell_type": "markdown",
   "metadata": {},
   "source": [
    "# A-2\n",
    "\n",
    "Here we see data distribution of feature1 and x2 separately by class.\n",
    "\n",
    "## for train1\n",
    "If we look at the first and second histograms, it is easy to classify by x1 feature but it is difficult to classify by x2 feature.\n",
    "\n",
    "## for  train2\n",
    "\n",
    "There is more shift problem here. Here, the classification is more difficult than the other and probably we will get a worse accuracy than the test data."
   ]
  },
  {
   "cell_type": "code",
   "execution_count": 9,
   "metadata": {},
   "outputs": [
    {
     "data": {
      "image/png": "[encoded data removed]",
      "text/plain": [
       "<Figure size 432x288 with 1 Axes>"
      ]
     },
     "metadata": {
      "needs_background": "light"
     },
     "output_type": "display_data"
    },
    {
     "data": {
      "image/png": "[encoded data removed]",
      "text/plain": [
       "<Figure size 432x288 with 1 Axes>"
      ]
     },
     "metadata": {
      "needs_background": "light"
     },
     "output_type": "display_data"
    },
    {
     "data": {
      "image/png": "[encoded data removed]",
      "text/plain": [
       "<Figure size 432x288 with 1 Axes>"
      ]
     },
     "metadata": {
      "needs_background": "light"
     },
     "output_type": "display_data"
    }
   ],
   "source": [
    "plt.scatter(X1_c1[\"x1\"],X1_c1[\"x2\"], label = 'c1', c = 'r',s=5, alpha=0.3)\n",
    "plt.scatter(X1_c2[\"x1\"],X1_c2[\"x2\"], label = 'c2', c = 'b',s=5, alpha=0.3)\n",
    "plt.xlabel(\"x1\")\n",
    "plt.ylabel(\"x2\")\n",
    "plt.gca().set(title='Ploting Train1 ')\n",
    "plt.legend(loc='upper right')\n",
    "plt.show()\n",
    "\n",
    "plt.scatter(X2_c1[\"x1\"],X2_c1[\"x2\"], label = 'c1', c = 'r',s=5, alpha=0.3)\n",
    "plt.scatter(X2_c2[\"x1\"],X2_c2[\"x2\"], label = 'c2', c = 'b',s=5, alpha=0.3)\n",
    "plt.xlabel(\"x1\")\n",
    "plt.ylabel(\"x2\")\n",
    "plt.gca().set(title='Ploting Train2 ')\n",
    "plt.legend(loc='upper right')\n",
    "plt.show()\n",
    "\n",
    "####################################################################################################################\n",
    "#x1 on x-axis and x2 on y-axis\n",
    "#x2 =(c-ax1)/b\n",
    "#solve for g1(x) = g2(x), -3.30*x1-2.03*x2 \n",
    "x1 = np.arange(-4,4,0.02)\n",
    "\n",
    "plt.scatter(X1_c1[\"x1\"],X1_c1[\"x2\"], label = 'c1', c = 'r',s=5, alpha=0.3)\n",
    "plt.scatter(X1_c2[\"x1\"],X1_c2[\"x2\"], label = 'c2', c = 'b',s=5, alpha=0.3)\n",
    "plt.scatter(x1, (-11 + 3.3*x1)/(-2.03),c = 'g',s=5, alpha=0.3)\n",
    "plt.xlabel(\"x1\")\n",
    "plt.ylabel(\"x2\")\n",
    "plt.gca().set(title='Ploting Train1 ')\n",
    "plt.legend(loc='upper right')\n",
    "plt.show()\n"
   ]
  },
  {
   "cell_type": "markdown",
   "metadata": {},
   "source": [
    "## Part B: Implement Naive Bayes Classifier"
   ]
  },
  {
   "cell_type": "code",
   "execution_count": 10,
   "metadata": {},
   "outputs": [],
   "source": [
    "#Implement PART B:\n",
    "#get test data\n",
    "test1 = pd.read_csv(\"test1.csv\")\n",
    "test2 = pd.read_csv(\"test2.csv\")\n"
   ]
  },
  {
   "cell_type": "code",
   "execution_count": 11,
   "metadata": {},
   "outputs": [
    {
     "name": "stdout",
     "output_type": "stream",
     "text": [
      "Calculate mean vector and covariance matrix for train 1\n",
      "for class 1\n",
      "mean:\n",
      " [[-1.04624698]\n",
      " [ 3.26924606]]\n",
      "covariance matrix:\n",
      " [[ 1.13557089 -0.37320387]\n",
      " [-0.37320387  2.08327195]]\n",
      "\n",
      "\n",
      "for class 2\n",
      "mean:\n",
      " [[1.95375302]\n",
      " [6.26924606]]\n",
      "covariance matrix:\n",
      " [[ 1.13557089 -0.37320387]\n",
      " [-0.37320387  2.08327195]]\n",
      "\n",
      "\n",
      "Calculate mean vector and covariance matrix for train 2\n",
      "for class 1\n",
      "mean:\n",
      " [[ 0.00246486]\n",
      " [-0.01971604]]\n",
      "covariance matrix:\n",
      " [[1.91970895 0.85690451]\n",
      " [0.85690451 2.83579458]]\n",
      "\n",
      "\n",
      "for class 2\n",
      "mean:\n",
      " [[2.0536608 ]\n",
      " [2.97765078]]\n",
      "covariance matrix:\n",
      " [[ 0.99645235 -0.81777973]\n",
      " [-0.81777973  2.94594199]]\n"
     ]
    }
   ],
   "source": [
    "print(\"Calculate mean vector and covariance matrix for train 1\")\n",
    "\n",
    "print(\"for class 1\")\n",
    "\n",
    "mu1_c1 = train1.mu_c1\n",
    "print(\"mean:\\n\",mu1_c1.values)\n",
    "\n",
    "print(\"covariance matrix:\\n\",covmat1_c1.values)\n",
    "print(\"\\n\")\n",
    "print(\"for class 2\")\n",
    "\n",
    "mu1_c2 = train1.mu_c2\n",
    "print(\"mean:\\n\",mu1_c2.values)\n",
    "\n",
    "print(\"covariance matrix:\\n\",covmat1_c2.values)\n",
    "\n",
    "print(\"\\n\")\n",
    "print(\"Calculate mean vector and covariance matrix for train 2\")\n",
    "\n",
    "print(\"for class 1\")\n",
    "\n",
    "mu2_c1 = train2.mu_c1\n",
    "print(\"mean:\\n\",mu2_c1.values)\n",
    "\n",
    "print(\"covariance matrix:\\n\",covmat2_c1.values)\n",
    "print(\"\\n\")\n",
    "print(\"for class 2\")\n",
    "\n",
    "mu2_c2 = train2.mu_c2\n",
    "print(\"mean:\\n\",mu2_c2.values)\n",
    "\n",
    "print(\"covariance matrix:\\n\",covmat2_c2.values)\n"
   ]
  },
  {
   "cell_type": "code",
   "execution_count": 12,
   "metadata": {},
   "outputs": [],
   "source": [
    "#Get Values of Test sets(test1 and test2)\n",
    "t1 = Train(test1)\n",
    "Xt1  = t1.X\n",
    "Xt1_c1 = t1.X_c1\n",
    "Xt1_c2 = t1.X_c2\n",
    "Nt1_c1 = t1.N_c1\n",
    "Nt1_c2 = t1.N_c2\n",
    "\n",
    "\n",
    "t2 = Train(test2)\n",
    "Xt2  = t2.X\n",
    "Xt2_c1 = t2.X_c1\n",
    "Xt2_c2 = t2.X_c2\n",
    "Nt2_c1 = t2.N_c1\n",
    "Nt2_c2 = t2.N_c2\n"
   ]
  },
  {
   "cell_type": "code",
   "execution_count": 13,
   "metadata": {},
   "outputs": [],
   "source": [
    "#Create function mahalanobis distance and euclidean distance. Because we use these distance function to calculate gi(x) \n",
    "\n",
    "def mahalanobis(x=None, mu=None, cov=None):\n",
    "    #((x-mu_ci).T) * (inv_cov) * (x-mu_ci)\n",
    "    x_minus_mu = x.values - mu\n",
    "    #print(X.values)\n",
    "    #print(mu)\n",
    "    #print(x_minus_mu)\n",
    "    inv_covmat = np.linalg.inv(cov)\n",
    "    left_term = np.dot(x_minus_mu.T, inv_covmat)\n",
    "    mahal = np.dot(left_term, x_minus_mu)\n",
    "    return mahal.diagonal()\n",
    "\n",
    "def euclidean(x=None, mu=None):\n",
    "    #((x-mu_ci).T) * (x-mu_ci)\n",
    "    x_minus_mu = x.values - mu\n",
    "    #print(X.values)\n",
    "    #print(mu)\n",
    "    #print(x_minus_mu)\n",
    "    euclid = np.dot(x_minus_mu.T, x_minus_mu)\n",
    "    return euclid.diagonal()"
   ]
  },
  {
   "cell_type": "code",
   "execution_count": 14,
   "metadata": {},
   "outputs": [],
   "source": [
    "#gi(x) funtction for 3 cases\n",
    "#\n",
    "#gix(mu,mu_i,covmat,covmat_i,x,p,pc_i)\n",
    "#\n",
    "#mu:[mu_c1 mu_c2]\n",
    "#mu_i: mu_c1 or mu_c2\n",
    "#covmat:[covmat_c1 covmat_c2]\n",
    "#covmat_i: covmat_c1 or covmat_c2\n",
    "#x:test features [x1 x2]\n",
    "#p:[p_c1 p_c2]\n",
    "#pc_i: pc_1 or pc_2\n",
    "# \n",
    "#covmat_ci or covmat_i has 2x2 dimensions[[var_ci(x1) cov_ci(x1,x2)]\n",
    "#                                         [cov_ci(x2,x1) var_ci(x2)]]                    \n",
    "#for exp:\n",
    "#covmat[0][0][0] = var_c1(x1)\n",
    "#covmat[1][1][1] = var_c2(x2)\n",
    "# \n",
    "#case1: cov_c1 ==cov_c1 and mu_c1=!mu_c2\n",
    "#\n",
    "#case2: cov_c1 = var_c1*I so, var_c1(x1) == var_c1(x2) \n",
    "#       cov_c2 = var_c2*I so, var_c2(x1) == var_c2(x2) \n",
    "#\n",
    "#case3: general case\n",
    "\n",
    "def gix(mu,mu_i,covmat,covmat_i,x,p,pc_i):\n",
    "    #compare cov_matrix(cov_c1=?cov_c2) and mu_c1 =? mu_c2\n",
    "    if np.allclose(covmat[0].values,covmat[1].values) and not(np.allclose(mu[0].values,mu[1].values)) : \n",
    "        if p[0] == p[1]:\n",
    "            #gi(x) = (-1/2) * (M||x-mu_ci||)^2 , M||x-mu_ci|| is mahalanobis distance\n",
    "            #mahalanabis(x,mu_ci,covmat_ci), mu[0] = mu_c1, mu[1] = mu_c2\n",
    "            mahal = mahalanobis(x, mu_i.values,covmat_i.values)\n",
    "            g_ix = (-0.5)*(mahal)\n",
    "            return g_ix\n",
    "        else:\n",
    "            #gi(x) = (-1/2) * (M||x-mu_ci||)^2 + ln(pc(i))\n",
    "            mahal = mahalanobis(x, mu_i.values,covmat_i.values)\n",
    "            g_ix_l = (-0.5)*(mahal)\n",
    "            g_ix = (g_ix_l) + np.log(pc_i)  \n",
    "            return g_ix\n",
    "    \n",
    "    #detect covmatrix_i = variance_i*I, i = 1,2\n",
    "    elif np.allclose(covmat[0][0][0],covmat[0][1][1]) and np.allclose(covmat[1][0][0],covmat[1][1][1]):\n",
    "        if p[0] == p[1]:\n",
    "            #gi(x) = - (E||x-mu_ci||)^2 , E||x-mu_ci|| is euclidean distance\n",
    "            #euclidean(x,mu_ci), mu[0] = mu_c1, mu[1] = mu_c2\n",
    "            euclid = euclidean(x,mu_i.values)\n",
    "            g_ix = (-1) * (euclid)\n",
    "            return g_ix\n",
    "        else:\n",
    "            #gi(x) = (-1/(2*var))(E||x-mu_ci||)^2 + ln(pc(i))\n",
    "            euclid = euclidean(x,mu_i.values)\n",
    "            var_i = covmat_i.values[0][0]\n",
    "            g_ix = (-0.5*var_i) * (euclid) + np.log(pc_i)  \n",
    "            return g_ix\n",
    "    else:\n",
    "        #gi(x) = (-1/2) * (x-mu_ci).T * inv_cov * (x-mu_ci) -(0.5*ln(det(covmat)) + ln(pc(i))\n",
    "        x_minus_mu = x.values - mu_i.values\n",
    "        inv_covmat = np.linalg.inv(covmat_i.values)\n",
    "        l1 = np.dot(x_minus_mu.T, inv_covmat)\n",
    "        l2 = np.dot(l1, x_minus_mu)\n",
    "        r1 = np.log(np.linalg.det(covmat_i.values))\n",
    "            \n",
    "        g_ix = (-1/2) * l2 - (1/2) * r1 + np.log(pc_i)  \n",
    "        return g_ix"
   ]
  },
  {
   "cell_type": "code",
   "execution_count": 15,
   "metadata": {
    "scrolled": true
   },
   "outputs": [],
   "source": [
    "#APPLY the model and CALCULATE gi(x) values of each class for test1 features on train1\n",
    "#and store them in the dis_func_1\n",
    "#Xt1.shape[0] = number of test1 samples\n",
    "\n",
    "dis_func_1 = [] #store gi(x)\n",
    "for j in range(0,Xt1.shape[0]): \n",
    "    gix_list = [] #[g1(x) g2(x)]\n",
    "    Xtest_j = Xt1.values[j] #features\n",
    "    Xtest_j = pd.DataFrame(data=Xtest_j)\n",
    "    for i in range(0,2): \n",
    "        g_ix = gix(mulist1,mulist1[i],covmatlist1,covmatlist1[i],Xtest_j,plist1,plist1[i])\n",
    "        gix_list.append(g_ix)\n",
    "    #print(gix_list) \n",
    "    dis_func_1.append(gix_list)\n",
    "    \n"
   ]
  },
  {
   "cell_type": "code",
   "execution_count": 16,
   "metadata": {},
   "outputs": [],
   "source": [
    "#APPLY the model and CALCULATE gi(x) values of each class for test2 features on train2\n",
    "#and store them in the dis_func_2\n",
    "#Xt2.shape[0] = number of test2 samples\n",
    "\n",
    "dis_func_2 = [] #store gi(x)\n",
    "for j in range(0,Xt2.shape[0]):\n",
    "    gix_list = [] #[g1(x) g2(x)]\n",
    "    Xtest_j = Xt2.values[j] #features\n",
    "    Xtest_j = pd.DataFrame(data=Xtest_j)\n",
    "    for i in range(0,2): \n",
    "        g_ix = gix(mulist2,mulist2[i],covmatlist2,covmatlist2[i],Xtest_j,plist2,plist2[i])\n",
    "        gix_list.append(g_ix)\n",
    "    #print(gix_list) \n",
    "    dis_func_2.append(gix_list)"
   ]
  },
  {
   "cell_type": "code",
   "execution_count": 17,
   "metadata": {},
   "outputs": [],
   "source": [
    "#Predict y function for test features\n",
    "#if g1(x) > g2(x), y = 0 \n",
    "#if g2(x) > g1(x), y = 1\n",
    "#here in g1(x) = g2(x) case, I assigned y to 0.\n",
    "\n",
    "def predict_y(dis_func,N):\n",
    "    y_pred = []\n",
    "    for i in range(N):\n",
    "        if dis_func[i][0] >= dis_func[i][1]: #if g1(x) > g2(x), predict label is class1:\n",
    "            y = 0\n",
    "        else:\n",
    "            y = 1\n",
    "        y_pred.append(y)\n",
    "    return y_pred"
   ]
  },
  {
   "cell_type": "code",
   "execution_count": 18,
   "metadata": {},
   "outputs": [],
   "source": [
    "#PREDICT Y FOR TEST1 FEATURES\n",
    "y_pred_list_1 = predict_y(dis_func_1,Xt1.shape[0])"
   ]
  },
  {
   "cell_type": "code",
   "execution_count": 19,
   "metadata": {},
   "outputs": [],
   "source": [
    "#PREDICT Y FOR TEST2 FEATURES\n",
    "y_pred_list_2 = predict_y(dis_func_2,Xt2.shape[0])"
   ]
  },
  {
   "cell_type": "code",
   "execution_count": 20,
   "metadata": {},
   "outputs": [
    {
     "name": "stdout",
     "output_type": "stream",
     "text": [
      "accuracy rate: % 98.0\n",
      "error rate: % 2.0\n"
     ]
    }
   ],
   "source": [
    "#FIND ACCURACY AND ERROR FOR PREDICT LABEL Y FOR TEST1 FEATURES\n",
    "count_acc = 0\n",
    "count_err = 0\n",
    "for i in range(0,test1.shape[0]):\n",
    "    y = test1[\"y\"].values[i]\n",
    "    y_pred = y_pred_list_1[i]\n",
    "    if y == y_pred:\n",
    "        count_acc += 1\n",
    "    else:\n",
    "        count_err +=1\n",
    "print(\"accuracy rate: %\", (count_acc/test1.shape[0])*100)\n",
    "print(\"error rate: %\", (count_err/test1.shape[0])*100)"
   ]
  },
  {
   "cell_type": "code",
   "execution_count": 21,
   "metadata": {},
   "outputs": [
    {
     "name": "stdout",
     "output_type": "stream",
     "text": [
      "accuracy rate: % 88.5\n",
      "error rate: % 11.5\n"
     ]
    }
   ],
   "source": [
    "#FIND ACCURACY AND ERROR FOR PREDICT LABEL Y FOR TEST2 FEATURES\n",
    "count_acc = 0\n",
    "count_err = 0\n",
    "for i in range(0,test2.shape[0]):\n",
    "    y = test2[\"y\"].values[i]\n",
    "    y_pred = y_pred_list_2[i]\n",
    "    if y == y_pred:\n",
    "        count_acc += 1\n",
    "    else:\n",
    "        count_err +=1\n",
    "print(\"accuracy rate: %\", (count_acc/test2.shape[0])*100)\n",
    "print(\"error rate: %\", (count_err/test2.shape[0])*100)"
   ]
  },
  {
   "cell_type": "code",
   "execution_count": 22,
   "metadata": {},
   "outputs": [
    {
     "data": {
      "text/html": [
       "<div>\n",
       "<style scoped>\n",
       "    .dataframe tbody tr th:only-of-type {\n",
       "        vertical-align: middle;\n",
       "    }\n",
       "\n",
       "    .dataframe tbody tr th {\n",
       "        vertical-align: top;\n",
       "    }\n",
       "\n",
       "    .dataframe thead th {\n",
       "        text-align: right;\n",
       "    }\n",
       "</style>\n",
       "<table border=\"1\" class=\"dataframe\">\n",
       "  <thead>\n",
       "    <tr style=\"text-align: right;\">\n",
       "      <th></th>\n",
       "      <th>x1</th>\n",
       "      <th>x2</th>\n",
       "      <th>y</th>\n",
       "    </tr>\n",
       "  </thead>\n",
       "  <tbody>\n",
       "    <tr>\n",
       "      <td>0</td>\n",
       "      <td>-0.260234</td>\n",
       "      <td>2.767817</td>\n",
       "      <td>0</td>\n",
       "    </tr>\n",
       "    <tr>\n",
       "      <td>1</td>\n",
       "      <td>3.466190</td>\n",
       "      <td>6.054691</td>\n",
       "      <td>1</td>\n",
       "    </tr>\n",
       "    <tr>\n",
       "      <td>2</td>\n",
       "      <td>-2.036224</td>\n",
       "      <td>4.491902</td>\n",
       "      <td>0</td>\n",
       "    </tr>\n",
       "    <tr>\n",
       "      <td>3</td>\n",
       "      <td>2.434426</td>\n",
       "      <td>6.638656</td>\n",
       "      <td>1</td>\n",
       "    </tr>\n",
       "    <tr>\n",
       "      <td>4</td>\n",
       "      <td>-0.541338</td>\n",
       "      <td>3.210246</td>\n",
       "      <td>0</td>\n",
       "    </tr>\n",
       "    <tr>\n",
       "      <td>...</td>\n",
       "      <td>...</td>\n",
       "      <td>...</td>\n",
       "      <td>...</td>\n",
       "    </tr>\n",
       "    <tr>\n",
       "      <td>95</td>\n",
       "      <td>-1.477077</td>\n",
       "      <td>2.388638</td>\n",
       "      <td>0</td>\n",
       "    </tr>\n",
       "    <tr>\n",
       "      <td>96</td>\n",
       "      <td>2.410858</td>\n",
       "      <td>8.014465</td>\n",
       "      <td>1</td>\n",
       "    </tr>\n",
       "    <tr>\n",
       "      <td>97</td>\n",
       "      <td>-1.886254</td>\n",
       "      <td>4.682919</td>\n",
       "      <td>0</td>\n",
       "    </tr>\n",
       "    <tr>\n",
       "      <td>98</td>\n",
       "      <td>-0.157498</td>\n",
       "      <td>3.740511</td>\n",
       "      <td>0</td>\n",
       "    </tr>\n",
       "    <tr>\n",
       "      <td>99</td>\n",
       "      <td>-3.981403</td>\n",
       "      <td>3.560003</td>\n",
       "      <td>0</td>\n",
       "    </tr>\n",
       "  </tbody>\n",
       "</table>\n",
       "<p>300 rows × 3 columns</p>\n",
       "</div>"
      ],
      "text/plain": [
       "          x1        x2  y\n",
       "0  -0.260234  2.767817  0\n",
       "1   3.466190  6.054691  1\n",
       "2  -2.036224  4.491902  0\n",
       "3   2.434426  6.638656  1\n",
       "4  -0.541338  3.210246  0\n",
       "..       ...       ... ..\n",
       "95 -1.477077  2.388638  0\n",
       "96  2.410858  8.014465  1\n",
       "97 -1.886254  4.682919  0\n",
       "98 -0.157498  3.740511  0\n",
       "99 -3.981403  3.560003  0\n",
       "\n",
       "[300 rows x 3 columns]"
      ]
     },
     "execution_count": 22,
     "metadata": {},
     "output_type": "execute_result"
    }
   ],
   "source": [
    "#Combine train1 set and test1 set = final1 set\n",
    "final1 = pd.concat([df1,test1])\n",
    "final1"
   ]
  },
  {
   "cell_type": "code",
   "execution_count": 23,
   "metadata": {},
   "outputs": [],
   "source": [
    "from sklearn.model_selection import KFold\n"
   ]
  },
  {
   "cell_type": "code",
   "execution_count": 24,
   "metadata": {},
   "outputs": [],
   "source": [
    "#Train and Get Values of Final1 set\n",
    "f1 = Train(final1)\n",
    "Xf1  = f1.X #features of final1 set\n",
    "yf1= f1.y #label of final1 set\n",
    "Xf1_c1 = f1.X_c1\n",
    "Xf1_c2 = f1.X_c2\n",
    "Nf1_c1 = f1.N_c1\n",
    "Nf1_c2 = f1.N_c2\n"
   ]
  },
  {
   "cell_type": "code",
   "execution_count": 25,
   "metadata": {},
   "outputs": [
    {
     "name": "stdout",
     "output_type": "stream",
     "text": [
      "KFold(n_splits=5, random_state=None, shuffle=True)\n"
     ]
    }
   ],
   "source": [
    "#APPLY 5-FOLD CROSS VALIDATION TO FINAL1 SET\n",
    "#Split shuffle\n",
    "kf = KFold(n_splits=5,shuffle=True)\n",
    "kf.get_n_splits(Xf1.values)\n",
    "print(kf)\n",
    "#random.seed(1)"
   ]
  },
  {
   "cell_type": "code",
   "execution_count": 26,
   "metadata": {},
   "outputs": [
    {
     "name": "stdout",
     "output_type": "stream",
     "text": [
      "accuracy rate: % 96.66666666666667\n",
      "error rate: % 3.3333333333333335\n",
      "***********************************************************************************\n",
      "accuracy rate: % 95.0\n",
      "error rate: % 5.0\n",
      "***********************************************************************************\n",
      "accuracy rate: % 98.33333333333333\n",
      "error rate: % 1.6666666666666667\n",
      "***********************************************************************************\n",
      "accuracy rate: % 98.33333333333333\n",
      "error rate: % 1.6666666666666667\n",
      "***********************************************************************************\n",
      "accuracy rate: % 96.66666666666667\n",
      "error rate: % 3.3333333333333335\n",
      "***********************************************************************************\n",
      "accuracy: [96.66666666666667, 95.0, 98.33333333333333, 98.33333333333333, 96.66666666666667]\n"
     ]
    }
   ],
   "source": [
    "#FIND Accuracy and Error rate each train set(splited from final1 set)\n",
    "accuracy_model = []\n",
    "for train_index, test_index in kf.split(Xf1.values):\n",
    "    # Split train-test\n",
    "    X_train, X_test = Xf1.values[train_index], Xf1.values[test_index]\n",
    "    y_train, y_test = yf1.values[train_index], yf1.values[test_index]\n",
    "    \n",
    "    #print(X_train.shape)\n",
    "    #print(X_test.shape)\n",
    "    #print(train_index)\n",
    "    #print(\"***********************************************************\")\n",
    "    \n",
    "    # TRAIN THE MODEL, FIND CLASS AND CALCULATE ACCURACY\n",
    "    \n",
    "    #Convert Pandas for more comfortable processing\n",
    "    X_train = pd.DataFrame(X_train, columns = ['x1', 'x2'])\n",
    "    X_test = pd.DataFrame(X_test, columns = ['x1', 'x2'])\n",
    "    y_train = pd.DataFrame(y_train, columns = ['y'])\n",
    "    y_test = pd.DataFrame(y_test, columns = ['y'])\n",
    "    \n",
    "    #we need to concat Xtrain and y_train to apply Train class that I created above.\n",
    "    k_train = pd.concat([X_train,y_train], axis=1) \n",
    "    \n",
    "    #train and get values\n",
    "    traink = Train(k_train)\n",
    "    Xk_c1 = traink.X_c1\n",
    "    Xk_c2 = traink.X_c2\n",
    "    \n",
    "    Nk_c1 = traink.N_c1\n",
    "    Nk_c2 = traink.N_c2\n",
    "\n",
    "    pk_c1 = traink.p_c1\n",
    "    pk_c2 = traink.p_c2\n",
    "    \n",
    "    covmatk_c1 = traink.calcovmat(Xk_c1, Nk_c1)\n",
    "    covmatk_c2 = traink.calcovmat(Xk_c2, Nk_c2)\n",
    "\n",
    "    mulistk = traink.mu_list()\n",
    "\n",
    "    covmatlistk = traink.covmat_list()\n",
    "\n",
    "    plistk = traink.p_list()\n",
    "    \n",
    "    #APPLY the model and CALCULATE gi(x) values of each class for test features\n",
    "   \n",
    "    dis_func_k = [] #store gi(x)\n",
    "    \n",
    "    for j in range(0,X_test.shape[0]):\n",
    "        gix_list = [] #[g1(x) g2(x)]\n",
    "        Xtest_j = X_test.values[j] #features\n",
    "        Xtest_j = pd.DataFrame(data=Xtest_j)\n",
    "        for i in range(0,2): \n",
    "            g_ix = gix(mulistk,mulistk[i],covmatlistk,covmatlistk[i],Xtest_j,plistk,plistk[i])\n",
    "            gix_list.append(g_ix)\n",
    "\n",
    "        dis_func_k.append(gix_list)#[[g1(x) g2(x)],[g1(x) g2(x)],[g1(x) g2(x)],.....]\n",
    "    \n",
    "    #PREDICT Y FOR TEST-K FEATURES\n",
    "    y_pred_list_k = predict_y(dis_func_k,X_test.shape[0])\n",
    "    \n",
    "    #TO FIND ACCURACY AND ERROR FOR PREDICT LABEL Y FOR TEST1 FEATURES\n",
    "    count_acc = 0\n",
    "    count_err = 0\n",
    "    for i in range(0,X_test.shape[0]):\n",
    "        y = y_test[\"y\"].values[i] #get real label value\n",
    "        y_pred = y_pred_list_k[i] #get predicted label value\n",
    "        if y == y_pred:\n",
    "            count_acc += 1\n",
    "        else:\n",
    "            count_err +=1\n",
    "    print(\"accuracy rate: %\", (count_acc/X_test.shape[0])*100)\n",
    "    print(\"error rate: %\", (count_err/X_test.shape[0])*100)\n",
    "    print(\"***********************************************************************************\")\n",
    "    accuracy_model.append((count_acc/X_test.shape[0])*100)\n",
    "print(\"accuracy:\",accuracy_model)\n"
   ]
  },
  {
   "cell_type": "code",
   "execution_count": 27,
   "metadata": {},
   "outputs": [
    {
     "name": "stdout",
     "output_type": "stream",
     "text": [
      "avarage accuracy: 97.0\n"
     ]
    }
   ],
   "source": [
    "#Calculate average Accuracy Rate\n",
    "avr_acc = np.mean(accuracy_model)\n",
    "print(\"avarage accuracy:\",avr_acc)"
   ]
  },
  {
   "cell_type": "code",
   "execution_count": 28,
   "metadata": {},
   "outputs": [
    {
     "data": {
      "text/html": [
       "<div>\n",
       "<style scoped>\n",
       "    .dataframe tbody tr th:only-of-type {\n",
       "        vertical-align: middle;\n",
       "    }\n",
       "\n",
       "    .dataframe tbody tr th {\n",
       "        vertical-align: top;\n",
       "    }\n",
       "\n",
       "    .dataframe thead th {\n",
       "        text-align: right;\n",
       "    }\n",
       "</style>\n",
       "<table border=\"1\" class=\"dataframe\">\n",
       "  <thead>\n",
       "    <tr style=\"text-align: right;\">\n",
       "      <th></th>\n",
       "      <th>x1</th>\n",
       "      <th>x2</th>\n",
       "      <th>y</th>\n",
       "    </tr>\n",
       "  </thead>\n",
       "  <tbody>\n",
       "    <tr>\n",
       "      <td>0</td>\n",
       "      <td>-0.321883</td>\n",
       "      <td>-0.399495</td>\n",
       "      <td>0</td>\n",
       "    </tr>\n",
       "    <tr>\n",
       "      <td>1</td>\n",
       "      <td>-1.188954</td>\n",
       "      <td>-4.457593</td>\n",
       "      <td>0</td>\n",
       "    </tr>\n",
       "    <tr>\n",
       "      <td>2</td>\n",
       "      <td>2.852158</td>\n",
       "      <td>1.696284</td>\n",
       "      <td>1</td>\n",
       "    </tr>\n",
       "    <tr>\n",
       "      <td>3</td>\n",
       "      <td>2.788976</td>\n",
       "      <td>4.119233</td>\n",
       "      <td>1</td>\n",
       "    </tr>\n",
       "    <tr>\n",
       "      <td>4</td>\n",
       "      <td>0.507563</td>\n",
       "      <td>-1.118629</td>\n",
       "      <td>0</td>\n",
       "    </tr>\n",
       "    <tr>\n",
       "      <td>...</td>\n",
       "      <td>...</td>\n",
       "      <td>...</td>\n",
       "      <td>...</td>\n",
       "    </tr>\n",
       "    <tr>\n",
       "      <td>395</td>\n",
       "      <td>0.485387</td>\n",
       "      <td>1.552155</td>\n",
       "      <td>0</td>\n",
       "    </tr>\n",
       "    <tr>\n",
       "      <td>396</td>\n",
       "      <td>-0.806611</td>\n",
       "      <td>-1.639893</td>\n",
       "      <td>0</td>\n",
       "    </tr>\n",
       "    <tr>\n",
       "      <td>397</td>\n",
       "      <td>0.492477</td>\n",
       "      <td>4.544232</td>\n",
       "      <td>1</td>\n",
       "    </tr>\n",
       "    <tr>\n",
       "      <td>398</td>\n",
       "      <td>2.853715</td>\n",
       "      <td>-0.149648</td>\n",
       "      <td>1</td>\n",
       "    </tr>\n",
       "    <tr>\n",
       "      <td>399</td>\n",
       "      <td>3.951249</td>\n",
       "      <td>1.724860</td>\n",
       "      <td>1</td>\n",
       "    </tr>\n",
       "  </tbody>\n",
       "</table>\n",
       "<p>2000 rows × 3 columns</p>\n",
       "</div>"
      ],
      "text/plain": [
       "           x1        x2  y\n",
       "0   -0.321883 -0.399495  0\n",
       "1   -1.188954 -4.457593  0\n",
       "2    2.852158  1.696284  1\n",
       "3    2.788976  4.119233  1\n",
       "4    0.507563 -1.118629  0\n",
       "..        ...       ... ..\n",
       "395  0.485387  1.552155  0\n",
       "396 -0.806611 -1.639893  0\n",
       "397  0.492477  4.544232  1\n",
       "398  2.853715 -0.149648  1\n",
       "399  3.951249  1.724860  1\n",
       "\n",
       "[2000 rows x 3 columns]"
      ]
     },
     "execution_count": 28,
     "metadata": {},
     "output_type": "execute_result"
    }
   ],
   "source": [
    "#Combine train2 set and test2 set = final2 set\n",
    "final2 = pd.concat([df2,test2])\n",
    "final2"
   ]
  },
  {
   "cell_type": "code",
   "execution_count": 29,
   "metadata": {},
   "outputs": [],
   "source": [
    "#Get Values of Final2 set\n",
    "f2 = Train(final2)\n",
    "Xf2  = f2.X #features of final2 set\n",
    "yf2= f2.y #label of final2 set\n",
    "Xf2_c1 = f2.X_c1\n",
    "Xf2_c2 = f2.X_c2\n",
    "Nf2_c1 = f2.N_c1\n",
    "Nf2_c2 = f2.N_c2"
   ]
  },
  {
   "cell_type": "code",
   "execution_count": 30,
   "metadata": {},
   "outputs": [
    {
     "name": "stdout",
     "output_type": "stream",
     "text": [
      "KFold(n_splits=5, random_state=None, shuffle=True)\n"
     ]
    }
   ],
   "source": [
    "#APPLY 5-FOLD CROSS VALIDATION TO FINAL2 SET\n",
    "#Split shuffle\n",
    "kf = KFold(n_splits=5,shuffle=True)\n",
    "kf.get_n_splits(Xf2.values)\n",
    "print(kf)\n",
    "#random.seed(1)"
   ]
  },
  {
   "cell_type": "code",
   "execution_count": 31,
   "metadata": {},
   "outputs": [
    {
     "name": "stdout",
     "output_type": "stream",
     "text": [
      "accuracy rate: % 91.5\n",
      "error rate: % 8.5\n",
      "***********************************************************************************\n",
      "accuracy rate: % 88.75\n",
      "error rate: % 11.25\n",
      "***********************************************************************************\n",
      "accuracy rate: % 88.5\n",
      "error rate: % 11.5\n",
      "***********************************************************************************\n",
      "accuracy rate: % 89.75\n",
      "error rate: % 10.25\n",
      "***********************************************************************************\n",
      "accuracy rate: % 90.25\n",
      "error rate: % 9.75\n",
      "***********************************************************************************\n",
      "accuracy: [91.5, 88.75, 88.5, 89.75, 90.25]\n"
     ]
    }
   ],
   "source": [
    "#FIND Accuracy and Error rate each train set(splited from final1 set)\n",
    "accuracy_model = []\n",
    "for train_index, test_index in kf.split(Xf2.values):\n",
    "    # Split train-test\n",
    "    X_train, X_test = Xf2.values[train_index], Xf2.values[test_index]\n",
    "    y_train, y_test = yf2.values[train_index], yf2.values[test_index]\n",
    "    \n",
    "    #print(X_train.shape)\n",
    "    #print(X_test.shape)\n",
    "    #print(train_index)\n",
    "    #print(\"***********************************************************\")\n",
    "    \n",
    "    # TRAIN THE MODEL, FIND CLASS AND CALCULATE ACCURACY\n",
    "    \n",
    "    #Convert Pandas for more comfortable processing\n",
    "    X_train = pd.DataFrame(X_train, columns = ['x1', 'x2'])\n",
    "    X_test = pd.DataFrame(X_test, columns = ['x1', 'x2'])\n",
    "    y_train = pd.DataFrame(y_train, columns = ['y'])\n",
    "    y_test = pd.DataFrame(y_test, columns = ['y'])\n",
    "    \n",
    "    #we need to concat Xtrain and y_train to apply Train class that I created above.\n",
    "    k_train = pd.concat([X_train,y_train], axis=1) \n",
    "    \n",
    "    #train and get values\n",
    "    traink = Train(k_train)\n",
    "    Xk_c1 = traink.X_c1\n",
    "    Xk_c2 = traink.X_c2\n",
    "    \n",
    "    Nk_c1 = traink.N_c1\n",
    "    Nk_c2 = traink.N_c2\n",
    "\n",
    "    pk_c1 = traink.p_c1\n",
    "    pk_c2 = traink.p_c2\n",
    "    \n",
    "    covmatk_c1 = traink.calcovmat(Xk_c1, Nk_c1)\n",
    "    covmatk_c2 = traink.calcovmat(Xk_c2, Nk_c2)\n",
    "\n",
    "    mulistk = traink.mu_list()\n",
    "\n",
    "    covmatlistk = traink.covmat_list()\n",
    "\n",
    "    plistk = traink.p_list()\n",
    "    \n",
    "     #APPLY the model and CALCULATE gi(x) values of each class for test features\n",
    "   \n",
    "    dis_func_k = [] #store gi(x)\n",
    "    \n",
    "    for j in range(0,X_test.shape[0]):\n",
    "        gix_list = [] #[g1(x) g2(x)]\n",
    "        Xtest_j = X_test.values[j] #features\n",
    "        Xtest_j = pd.DataFrame(data=Xtest_j)\n",
    "        for i in range(0,2): \n",
    "            g_ix = gix(mulistk,mulistk[i],covmatlistk,covmatlistk[i],Xtest_j,plistk,plistk[i])\n",
    "            gix_list.append(g_ix)\n",
    "\n",
    "        dis_func_k.append(gix_list) #[[g1(x) g2(x)],[g1(x) g2(x)],[g1(x) g2(x)],.....]\n",
    "    \n",
    "    #APPLY THE MODEL AND PREDICT Y FOR TEST-K FEATURES\n",
    "    y_pred_list_k = predict_y(dis_func_k,X_test.shape[0]) \n",
    "    \n",
    "    #TO FIND ACCURACY AND ERROR FOR PREDICT LABEL Y FOR TEST1 FEATURES\n",
    "    count_acc = 0\n",
    "    count_err = 0\n",
    "    for i in range(0,X_test.shape[0]):\n",
    "        y = y_test[\"y\"].values[i] #get real label value\n",
    "        y_pred = y_pred_list_k[i] #get predicted label value \n",
    "        if y == y_pred:\n",
    "            count_acc += 1\n",
    "        else:\n",
    "            count_err +=1\n",
    "    print(\"accuracy rate: %\", (count_acc/X_test.shape[0])*100)\n",
    "    print(\"error rate: %\", (count_err/X_test.shape[0])*100)\n",
    "    print(\"***********************************************************************************\")\n",
    "    accuracy_model.append((count_acc/X_test.shape[0])*100)\n",
    "print(\"accuracy:\",accuracy_model)\n"
   ]
  },
  {
   "cell_type": "code",
   "execution_count": 32,
   "metadata": {},
   "outputs": [
    {
     "name": "stdout",
     "output_type": "stream",
     "text": [
      "avarage accuracy: 89.75\n"
     ]
    }
   ],
   "source": [
    "#Calculate average Accuracy Rate\n",
    "avr_acc = np.mean(accuracy_model)\n",
    "print(\"avarage accuracy:\",avr_acc)"
   ]
  },
  {
   "cell_type": "markdown",
   "metadata": {},
   "source": [
    "# C-4\n",
    "When we train train1 set and test on test1 set, we find %98 accuracy. Then we combined train1 set and test1 set. Then when we apply 5-kold cross-validation, we find %96.6 average accuracy. So, we find worse accuracy then first case. Still, in my opinion, the second situation is safer. Because if we use a single dataset as in the beginning, our success depends on whether there is a proper distribution in this dataset. But in the second case, that is, when we apply k-fold, we can achieve a more reliable result by distributing the dataset randomly.\n",
    "\n",
    "We can see an example of this in train2 set. \n",
    "When we train train2 set and test on test2 set, we find %88.5 accuracy. Then we combined train2 set and test2 set. Then when we apply 5-kold cross-validation, we find %89.7 average accuracy.  So, we find better accuracy then first case.This may be because the data distribution in the train2 set is not good.\n"
   ]
  },
  {
   "cell_type": "markdown",
   "metadata": {},
   "source": [
    "### Knn and then we can turn the bayesian classifier application into a function."
   ]
  },
  {
   "cell_type": "code",
   "execution_count": 33,
   "metadata": {},
   "outputs": [],
   "source": [
    "def knn(Xf,yf): #Xf features of final dataset, yf = label of final dataset\n",
    "    #Split shuffle\n",
    "    kf = KFold(n_splits=5,shuffle=True)\n",
    "    kf.get_n_splits(Xf.values)\n",
    "    print(kf)\n",
    "    accuracy_model = []\n",
    "    for train_index, test_index in kf.split(Xf.values):\n",
    "        # Split train-test\n",
    "        X_train, X_test = Xf.values[train_index], Xf.values[test_index]\n",
    "        y_train, y_test = yf.values[train_index], yf.values[test_index]\n",
    "\n",
    "        # TRAIN THE MODEL, FIND CLASS AND CALCULATE ACCURACY\n",
    "    \n",
    "        #Convert Pandas for more comfortable processing\n",
    "        X_train = pd.DataFrame(X_train, columns = ['x1', 'x2'])\n",
    "        X_test = pd.DataFrame(X_test, columns = ['x1', 'x2'])\n",
    "        y_train = pd.DataFrame(y_train, columns = ['y'])\n",
    "        y_test = pd.DataFrame(y_test, columns = ['y'])\n",
    "    \n",
    "        #we need to concat Xtrain and y_train to apply Train class that I created above.\n",
    "        k_train = pd.concat([X_train,y_train], axis=1) \n",
    "        \n",
    "        #train and get values \n",
    "        traink = Train(k_train)\n",
    "        Xk_c1 = traink.X_c1\n",
    "        Xk_c2 = traink.X_c2\n",
    "    \n",
    "        Nk_c1 = traink.N_c1\n",
    "        Nk_c2 = traink.N_c2\n",
    "\n",
    "        pk_c1 = traink.p_c1\n",
    "        pk_c2 = traink.p_c2\n",
    "    \n",
    "        covmatk_c1 = traink.calcovmat(Xk_c1, Nk_c1)\n",
    "        covmatk_c2 = traink.calcovmat(Xk_c2, Nk_c2)\n",
    "\n",
    "        mulistk = traink.mu_list()\n",
    "\n",
    "        covmatlistk = traink.covmat_list()\n",
    "\n",
    "        plistk = traink.p_list()\n",
    "    \n",
    "        #APPLY the model and CALCULATE gi(x) values of each class for test features\n",
    "   \n",
    "        dis_func_k = [] #store gi(x)\n",
    "    \n",
    "        for j in range(0,X_test.shape[0]):\n",
    "            gix_list = [] #[g1(x) g2(x)]\n",
    "            Xtest_j = X_test.values[j] #features\n",
    "            Xtest_j = pd.DataFrame(data=Xtest_j)\n",
    "            for i in range(0,2): \n",
    "                g_ix = gix(mulistk,mulistk[i],covmatlistk,covmatlistk[i],Xtest_j,plistk,plistk[i])\n",
    "                gix_list.append(g_ix)\n",
    "\n",
    "            dis_func_k.append(gix_list) #[[g1(x) g2(x)],[g1(x) g2(x)],[g1(x) g2(x)],.....]\n",
    "    \n",
    "        #APPLY THE MODEL AND PREDICT Y FOR TEST-K FEATURES\n",
    "        y_pred_list_k = predict_y(dis_func_k,X_test.shape[0])\n",
    "    \n",
    "        #TO FIND ACCURACY AND ERROR FOR PREDICT LABEL Y FOR TEST1 FEATURES\n",
    "        count_acc = 0\n",
    "        count_err = 0\n",
    "        for i in range(0,X_test.shape[0]):\n",
    "            y = y_test[\"y\"].values[i] #get real label value \n",
    "            y_pred = y_pred_list_k[i] #get predicted label value \n",
    "            if y == y_pred:\n",
    "                count_acc += 1\n",
    "            else:\n",
    "                count_err +=1\n",
    "        print(\"accuracy rate: %\", (count_acc/X_test.shape[0])*100)\n",
    "        print(\"error rate: %\", (count_err/X_test.shape[0])*100)\n",
    "        print(\"***********************************************************************************\")\n",
    "        accuracy_model.append((count_acc/X_test.shape[0])*100)\n",
    "    print(\"accuracy:\",accuracy_model)\n",
    "    print(\"***********************************************************************************\")\n",
    "    avr_acc = np.mean(accuracy_model)\n",
    "    print(\"avarage accuracy:\",avr_acc)"
   ]
  },
  {
   "cell_type": "code",
   "execution_count": 34,
   "metadata": {},
   "outputs": [
    {
     "name": "stdout",
     "output_type": "stream",
     "text": [
      "KFold(n_splits=5, random_state=None, shuffle=True)\n",
      "accuracy rate: % 96.66666666666667\n",
      "error rate: % 3.3333333333333335\n",
      "***********************************************************************************\n",
      "accuracy rate: % 98.33333333333333\n",
      "error rate: % 1.6666666666666667\n",
      "***********************************************************************************\n",
      "accuracy rate: % 90.0\n",
      "error rate: % 10.0\n",
      "***********************************************************************************\n",
      "accuracy rate: % 98.33333333333333\n",
      "error rate: % 1.6666666666666667\n",
      "***********************************************************************************\n",
      "accuracy rate: % 100.0\n",
      "error rate: % 0.0\n",
      "***********************************************************************************\n",
      "accuracy: [96.66666666666667, 98.33333333333333, 90.0, 98.33333333333333, 100.0]\n",
      "***********************************************************************************\n",
      "avarage accuracy: 96.66666666666666\n"
     ]
    }
   ],
   "source": [
    "#APPLY KNN AND BAYES MODEL THAT I CREATED\n",
    "knn(Xf1,yf1)"
   ]
  },
  {
   "cell_type": "code",
   "execution_count": 35,
   "metadata": {},
   "outputs": [
    {
     "name": "stdout",
     "output_type": "stream",
     "text": [
      "KFold(n_splits=5, random_state=None, shuffle=True)\n",
      "accuracy rate: % 89.0\n",
      "error rate: % 11.0\n",
      "***********************************************************************************\n",
      "accuracy rate: % 88.0\n",
      "error rate: % 12.0\n",
      "***********************************************************************************\n",
      "accuracy rate: % 90.5\n",
      "error rate: % 9.5\n",
      "***********************************************************************************\n",
      "accuracy rate: % 90.5\n",
      "error rate: % 9.5\n",
      "***********************************************************************************\n",
      "accuracy rate: % 90.75\n",
      "error rate: % 9.25\n",
      "***********************************************************************************\n",
      "accuracy: [89.0, 88.0, 90.5, 90.5, 90.75]\n",
      "***********************************************************************************\n",
      "avarage accuracy: 89.75\n"
     ]
    }
   ],
   "source": [
    "#APPLY KNN AND BAYES MODEL THAT I CREATED\n",
    "knn(Xf2,yf2)"
   ]
  },
  {
   "cell_type": "markdown",
   "metadata": {},
   "source": [
    "## Part D: Redo the experiments on modified Dataset 2"
   ]
  },
  {
   "cell_type": "code",
   "execution_count": 36,
   "metadata": {},
   "outputs": [],
   "source": [
    "#Train and Get values\n",
    "train2m = Train(df2m)\n",
    "X2m_c1 = train2m.X_c1\n",
    "X2m_c2 = train2m.X_c2\n",
    "N2m_c1 = train2m.N_c1\n",
    "N2m_c2 = train2m.N_c2\n",
    "p2m_c1 = train2m.p_c1\n",
    "p2m_c2 = train2m.p_c2\n",
    "\n",
    "covmat2m_c1 = train2m.calcovmat(X2m_c1, N2m_c1)\n",
    "covmat2m_c2= train2m.calcovmat(X2m_c2, N2m_c2)\n",
    "\n",
    "mulist2m = train2m.mu_list()\n",
    "\n",
    "covmatlist2m = train2m.covmat_list()\n",
    "\n",
    "plist2m = train2m.p_list()\n",
    "\n",
    "\n",
    "\n"
   ]
  },
  {
   "cell_type": "code",
   "execution_count": 37,
   "metadata": {},
   "outputs": [
    {
     "data": {
      "image/png": "[encoded data removed]",
      "text/plain": [
       "<Figure size 432x288 with 1 Axes>"
      ]
     },
     "metadata": {
      "needs_background": "light"
     },
     "output_type": "display_data"
    },
    {
     "data": {
      "image/png": "[encoded data removed]",
      "text/plain": [
       "<Figure size 432x288 with 1 Axes>"
      ]
     },
     "metadata": {
      "needs_background": "light"
     },
     "output_type": "display_data"
    }
   ],
   "source": [
    "#Plot Modified Train2 set\n",
    "plt.scatter(X2m_c1[\"x1\"],X2m_c1[\"x2\"], label = 'c1', c = 'r',s=5, alpha=0.4)\n",
    "plt.scatter(X2m_c2[\"x1\"],X2m_c2[\"x2\"], label = 'c2', c = 'b',s=5, alpha=0.4)\n",
    "plt.xlabel(\"x1\")\n",
    "plt.ylabel(\"x2\")\n",
    "plt.gca().set(title='Modified Train2 ')\n",
    "plt.legend(loc='upper right')\n",
    "plt.show()\n",
    "\n",
    "\n",
    "plt.scatter(X2_c1[\"x1\"],X2_c1[\"x2\"], label = 'c1', c = 'r',s=5, alpha=0.4)\n",
    "plt.scatter(X2_c2[\"x1\"],X2_c2[\"x2\"], label = 'c2', c = 'b',s=5, alpha=0.4)\n",
    "plt.xlabel(\"x1\")\n",
    "plt.ylabel(\"x2\")\n",
    "plt.gca().set(title='Train2 ')\n",
    "plt.legend(loc='upper right')\n",
    "plt.show()"
   ]
  },
  {
   "cell_type": "markdown",
   "metadata": {},
   "source": [
    "# D-1\n",
    "There are new values in the upper left corner and down right corner of the x1-x2 chart. So, data distribution spread more than train2 set out."
   ]
  },
  {
   "cell_type": "code",
   "execution_count": 38,
   "metadata": {},
   "outputs": [],
   "source": [
    "#APPLY the model and CALCULATE gi(x) values of each class for test2 features on modified train2\n",
    "#and store them in the dis_func_2m\n",
    "#Xt2.shape[0] = number of test1 samples\n",
    "\n",
    "dis_func_2m = [] #store gi(x)\n",
    "\n",
    "for j in range(0,Xt2.shape[0]):\n",
    "    gix_list = [] #[g1(x) g2(x)]\n",
    "    Xtest_j = Xt2.values[j] #features\n",
    "    Xtest_j = pd.DataFrame(data=Xtest_j)\n",
    "    for i in range(0,2): \n",
    "        g_ix = gix(mulist2m,mulist2m[i],covmatlist2m,covmatlist2m[i],Xtest_j,plist2m,plist2m[i])\n",
    "        gix_list.append(g_ix)\n",
    "        \n",
    "    dis_func_2m.append(gix_list) #[[g1(x) g2(x)],[g1(x) g2(x)],[g1(x) g2(x)],.....]"
   ]
  },
  {
   "cell_type": "code",
   "execution_count": 39,
   "metadata": {},
   "outputs": [],
   "source": [
    "#PREDICT Y FOR TEST2 FEATURES\n",
    "y_pred_list_2m = predict_y(dis_func_2m,Xt2.shape[0])"
   ]
  },
  {
   "cell_type": "code",
   "execution_count": 40,
   "metadata": {},
   "outputs": [
    {
     "name": "stdout",
     "output_type": "stream",
     "text": [
      "accuracy rate: % 87.75\n",
      "error rate: % 12.25\n"
     ]
    }
   ],
   "source": [
    "#FIND ACCURACY AND ERROR RATE FOR PREDICT LABEL Y FOR TEST2 FEATURES ON MODIFIED TRAIN2\n",
    "count_acc = 0\n",
    "count_err = 0\n",
    "for i in range(0,test2.shape[0]):\n",
    "    y = test2[\"y\"].values[i]\n",
    "    y_pred = y_pred_list_2m[i]\n",
    "    if y == y_pred:\n",
    "        count_acc += 1\n",
    "    else:\n",
    "        count_err +=1\n",
    "print(\"accuracy rate: %\", (count_acc/test2.shape[0])*100)\n",
    "print(\"error rate: %\", (count_err/test2.shape[0])*100)"
   ]
  },
  {
   "cell_type": "markdown",
   "metadata": {},
   "source": [
    "# D-3\n",
    "Here, we find %87.75 accuracy. When we train train2 set, we find %88.5 accuracy. So, we find worse accuracy by use modified train2 set. \n",
    "\n",
    "I have printed the covariance matrices for both datasets below. If we look at the variances here, we see that the variance values are higher than A. So, data distribution spread more than train2 set out. \n",
    "\n",
    "By looking at these values, at Bayes Classifier, as the data distribution increases, it becomes more difficult to predict and we find worse accuracy."
   ]
  },
  {
   "cell_type": "code",
   "execution_count": 41,
   "metadata": {},
   "outputs": [
    {
     "name": "stdout",
     "output_type": "stream",
     "text": [
      "For Train 2\n",
      "Covariance matrix for class1\n",
      "[[1.91970895 0.85690451]\n",
      " [0.85690451 2.83579458]]\n",
      "******************\n",
      "Covariance matrix for class2\n",
      "[[ 0.99645235 -0.81777973]\n",
      " [-0.81777973  2.94594199]]\n",
      "*************************************************************************************************\n",
      "For Modified Train 2\n",
      "Covariance matrix for class1\n",
      "[[2.04588459 0.63042127]\n",
      " [0.63042127 3.17419239]]\n",
      "******************\n",
      "Covariance matrix for class2\n",
      "[[ 1.07756488 -0.77916391]\n",
      " [-0.77916391  3.09420853]]\n"
     ]
    }
   ],
   "source": [
    "print(\"For Train 2\")\n",
    "print(\"Covariance matrix for class1\")\n",
    "print(covmatlist2[0].values)\n",
    "print(\"******************\")\n",
    "print(\"Covariance matrix for class2\")\n",
    "print(covmatlist2[1].values)\n",
    "\n",
    "print(\"*************************************************************************************************\")\n",
    "\n",
    "print(\"For Modified Train 2\")\n",
    "print(\"Covariance matrix for class1\")\n",
    "print(covmatlist2m[0].values)\n",
    "print(\"******************\")\n",
    "print(\"Covariance matrix for class2\")\n",
    "print(covmatlist2m[1].values)\n"
   ]
  },
  {
   "cell_type": "code",
   "execution_count": null,
   "metadata": {},
   "outputs": [],
   "source": []
  },
  {
   "cell_type": "code",
   "execution_count": null,
   "metadata": {},
   "outputs": [],
   "source": []
  },
  {
   "cell_type": "code",
   "execution_count": null,
   "metadata": {},
   "outputs": [],
   "source": []
  }
 ],
 "metadata": {
  "kernelspec": {
   "display_name": "Python 3",
   "language": "python",
   "name": "python3"
  },
  "language_info": {
   "codemirror_mode": {
    "name": "ipython",
    "version": 3
   },
   "file_extension": ".py",
   "mimetype": "text/x-python",
   "name": "python",
   "nbconvert_exporter": "python",
   "pygments_lexer": "ipython3",
   "version": "3.7.4"
  }
 },
 "nbformat": 4,
 "nbformat_minor": 2
}
