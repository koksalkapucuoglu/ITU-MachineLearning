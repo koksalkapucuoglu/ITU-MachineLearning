{
 "cells": [
  {
   "cell_type": "code",
   "execution_count": 1,
   "metadata": {},
   "outputs": [],
   "source": [
    "#Köksal Kapucuoğlu\n",
    "#########################\n",
    "import numpy as np\n",
    "import pandas as pd\n",
    "import matplotlib.pyplot as plt\n",
    "import matplotlib\n",
    "import math\n",
    "import random\n",
    "#import any other non-machine learning modules that you wish\n",
    "#SHORTCUTS: Alt + Enter includes new cell below, CTRL + Enter executes the current cell\n",
    "##########################\n",
    "df1 = pd.read_csv(\"train1.csv\")\n",
    "df2 = pd.read_csv(\"train2.csv\") \n",
    "df2m = pd.read_csv(\"train2_modified.csv\") #will be used in Part D"
   ]
  },
  {
   "cell_type": "code",
   "execution_count": 2,
   "metadata": {},
   "outputs": [
    {
     "name": "stdout",
     "output_type": "stream",
     "text": [
      "           x1        x2  y\n",
      "0   -0.260234  2.767817  0\n",
      "1    3.466190  6.054691  1\n",
      "2   -2.036224  4.491902  0\n",
      "3    2.434426  6.638656  1\n",
      "4   -0.541338  3.210246  0\n",
      "..        ...       ... ..\n",
      "195  1.832132  6.247191  1\n",
      "196  1.215533  5.750448  1\n",
      "197 -0.464053  3.034393  0\n",
      "198  2.638937  5.043589  1\n",
      "199 -0.439450  3.853694  0\n",
      "\n",
      "[200 rows x 3 columns]\n"
     ]
    }
   ],
   "source": [
    "#By printing a dataframe, you can view the data in csv format\n",
    "print(df1) # x1 and x2 are features and y is label.\n"
   ]
  },
  {
   "cell_type": "code",
   "execution_count": 3,
   "metadata": {},
   "outputs": [
    {
     "name": "stdout",
     "output_type": "stream",
     "text": [
      "Index(['x1', 'x2', 'y'], dtype='object')\n"
     ]
    }
   ],
   "source": [
    "#You can extract keys from dataframe, which you can use to extract features or labels.\n",
    "print(df1.keys())\n",
    "df1_x1 = df1['x1']\n",
    "df1_x2 = df1['x2']\n",
    "#To extract data as numpy array:\n",
    "df1_numpy = df1.values\n",
    "#You can also extract a specific feature as numpy array as well.\n",
    "df1_x1_numpy = df1['x1'].values"
   ]
  },
  {
   "cell_type": "code",
   "execution_count": 4,
   "metadata": {},
   "outputs": [],
   "source": [
    "#Get feautures and label from train\n",
    "X1 = pd.DataFrame(df1, columns = ['x1', 'x2']) #features of train 1\n",
    "y1 = pd.DataFrame(df1, columns = ['y']) #labels of train 1\n",
    "\n",
    "X2 = pd.DataFrame(df2, columns = ['x1', 'x2']) #features of train 2\n",
    "y2 = pd.DataFrame(df2, columns = ['y']) #labels of train 2"
   ]
  },
  {
   "cell_type": "code",
   "execution_count": 5,
   "metadata": {},
   "outputs": [
    {
     "name": "stdout",
     "output_type": "stream",
     "text": [
      "samples of train 1: 200\n",
      "samples of train 2: 1600\n"
     ]
    }
   ],
   "source": [
    "N1 = df1.shape[0] # samples number of train 1\n",
    "N2 = df2.shape[0] # samples number of train 2\n",
    "print(\"samples of train 1:\", N1)\n",
    "print(\"samples of train 2:\", N2)"
   ]
  },
  {
   "cell_type": "code",
   "execution_count": 6,
   "metadata": {},
   "outputs": [],
   "source": [
    "def calculatevariance(Xi,N): #Xi =  i.th feature column, N = number of samples\n",
    "    Xim = np.average(Xi) #get mean, same function as np.mean(Xi, axis=0)\n",
    "    var = 0.0\n",
    "    for i in np.arange(0, N):\n",
    "        var = ((Xi[i] - Xim)**2) + var\n",
    "    return  (1./(N))*var\n",
    "\n",
    "def calculatecovariance(Xi, Xk, N):#Xi =  i.th feature column, Xk =  k.th feature column, N = number of samples\n",
    "    Xim=np.average(Xi) \n",
    "    Xkm=np.average(Xk)\n",
    "    cov = 0.0\n",
    "    for i in np.arange(0, N):\n",
    "        cov = (Xi[i]-Xim)*(Xk[i]-Xkm) + cov\n",
    "    return  (1./(N))*cov"
   ]
  },
  {
   "cell_type": "code",
   "execution_count": 7,
   "metadata": {},
   "outputs": [
    {
     "name": "stdout",
     "output_type": "stream",
     "text": [
      "variance of x1 =  3.3855708883556024\n",
      "variance of x2 =  4.3332719522337\n",
      "covariance of x2-x1 =  1.8767961296565006\n",
      "covariance of x1-x2 =  1.8767961296565006\n"
     ]
    }
   ],
   "source": [
    "#Calculate variance for train 1\n",
    "#x1 = feature 1 name at train 1\n",
    "#x2 = feature 2 name at train 1\n",
    "print(\"variance of x1 = \", calculatevariance(X1[\"x1\"], N1))\n",
    "print(\"variance of x2 = \", calculatevariance(X1[\"x2\"], N1))\n",
    "print(\"covariance of x2-x1 = \", calculatecovariance(X1[\"x1\"],X1[\"x2\"], N1))\n",
    "print(\"covariance of x1-x2 = \", calculatecovariance(X1[\"x2\"],X1[\"x1\"], N1))"
   ]
  },
  {
   "cell_type": "code",
   "execution_count": 8,
   "metadata": {},
   "outputs": [
    {
     "name": "stdout",
     "output_type": "stream",
     "text": [
      "Calcutating covariance matrix for train 1\n",
      "***************************\n",
      "[[3.3855708883556024, 1.8767961296565006], [1.8767961296565006, 4.3332719522337]]\n",
      "***************************\n",
      "Calcutating covariance matrix for train 2\n",
      "[[2.5099318410164977, 1.5566090465564741], [1.5566090465564741, 5.136920249849792]]\n"
     ]
    }
   ],
   "source": [
    "print(\"Calcutating covariance matrix for train 1\")\n",
    "varx1 = calculatevariance(X1[\"x1\"], N1)\n",
    "varx2 = calculatevariance(X1[\"x2\"], N1)\n",
    "covx1x2 = calculatecovariance(X1[\"x1\"],X1[\"x2\"], N1)\n",
    "covx2x1 = calculatecovariance(X1[\"x2\"],X1[\"x1\"], N1)\n",
    "print(\"***************************\")\n",
    "cov_mtrx1 = [[varx1,covx1x2],[covx2x1,varx2]]\n",
    "print(cov_mtrx1)\n",
    "\n",
    "print(\"***************************\")\n",
    "print(\"Calcutating covariance matrix for train 2\")\n",
    "varx1 = calculatevariance(X2[\"x1\"], N2)\n",
    "varx2 = calculatevariance(X2[\"x2\"], N2)\n",
    "covx1x2 = calculatecovariance(X2[\"x1\"],X2[\"x2\"], N2)\n",
    "covx2x1 = calculatecovariance(X2[\"x2\"],X2[\"x1\"], N2)\n",
    "cov_mtrx2 = [[varx1,covx1x2],[covx2x1,varx2]]\n",
    "print(cov_mtrx2)"
   ]
  },
  {
   "cell_type": "markdown",
   "metadata": {},
   "source": [
    "## Part A: Examine training sets"
   ]
  },
  {
   "cell_type": "code",
   "execution_count": 9,
   "metadata": {},
   "outputs": [
    {
     "data": {
      "image/png": "[encoded data removed]",
      "text/plain": [
       "<Figure size 432x288 with 2 Axes>"
      ]
     },
     "metadata": {
      "needs_background": "light"
     },
     "output_type": "display_data"
    },
    {
     "data": {
      "image/png": "[encoded data removed]",
      "text/plain": [
       "<Figure size 432x288 with 2 Axes>"
      ]
     },
     "metadata": {
      "needs_background": "light"
     },
     "output_type": "display_data"
    }
   ],
   "source": [
    "#PART A: Examine training sets here. plots etc.\n",
    "#Hint: df1_class0 = df1[df1['column_name']==0] creates a new dataframe and includes samples (rows) whose class values are 0\n",
    "#hint: for data distribution plots use plt.scatter(x-axis,y-axis,other params. check online)\n",
    "#Hint: for each new plot use plt.figure() so they won't overlap, one on top of another\n",
    "#-------\n",
    "#to plot cov. matrices you may use following code: (compute 'cov_mtrx' by yourself)\n",
    "alpha = ['x1', 'x2']\n",
    "fig = plt.figure()\n",
    "ax = fig.add_subplot(111)\n",
    "cax = ax.matshow(cov_mtrx1,interpolation='nearest') #cov. matrix of dataset1\n",
    "fig.colorbar(cax)\n",
    "ax.set_xticklabels(['']+alpha)\n",
    "ax.set_yticklabels(['']+alpha)\n",
    "ax.set_title(\"Covariance Matrix of df1\")\n",
    "plt.show()\n",
    "\n",
    "alpha = ['x1', 'x2']\n",
    "fig = plt.figure()\n",
    "ax = fig.add_subplot(111)\n",
    "cax = ax.matshow(cov_mtrx2,interpolation='nearest') #cov. matrix of dataset1\n",
    "fig.colorbar(cax)\n",
    "ax.set_xticklabels(['']+alpha)\n",
    "ax.set_yticklabels(['']+alpha)\n",
    "ax.set_title(\"Covariance Matrix of df2\")\n",
    "plt.show()\n",
    "#---------\n",
    "#for the histogram plots use plt.hist() (Remember: 4 of them we want)\n",
    "#for title use: plt.gca().set(title='Data distribution of feature x of trainingSet y', ylabel='Frequency')"
   ]
  },
  {
   "cell_type": "markdown",
   "metadata": {},
   "source": [
    "# Yorumları buraya ekle\n",
    "# Add your comments as markdown cells(This is a markdown cell).\n",
    "\n",
    "## To add a markdown cell, simply click on a cell, then click on the 'Cell' tab above, change 'Cell Type' to 'Markdown'\n",
    "\n",
    "Then add your comment! To view the format of this markdown cell, double click on here.\n",
    "\n",
    "### Note: We provide you with example codes for starter, but feel free to delete anything we provide and write your own code, as long as you use allowed libraries and modules. "
   ]
  },
  {
   "cell_type": "code",
   "execution_count": 10,
   "metadata": {},
   "outputs": [
    {
     "data": {
      "image/png": "[encoded data removed]",
      "text/plain": [
       "<Figure size 432x288 with 1 Axes>"
      ]
     },
     "metadata": {
      "needs_background": "light"
     },
     "output_type": "display_data"
    },
    {
     "data": {
      "image/png": "[encoded data removed]",
      "text/plain": [
       "<Figure size 432x288 with 1 Axes>"
      ]
     },
     "metadata": {
      "needs_background": "light"
     },
     "output_type": "display_data"
    },
    {
     "data": {
      "image/png": "[encoded data removed]",
      "text/plain": [
       "<Figure size 432x288 with 1 Axes>"
      ]
     },
     "metadata": {
      "needs_background": "light"
     },
     "output_type": "display_data"
    },
    {
     "data": {
      "image/png": "[encoded data removed]",
      "text/plain": [
       "<Figure size 432x288 with 1 Axes>"
      ]
     },
     "metadata": {
      "needs_background": "light"
     },
     "output_type": "display_data"
    }
   ],
   "source": [
    "df1_c1 = df1[df1['y']==0] #get class1 for train1\n",
    "df1_c2 = df1[df1['y']==1] #get class2 for train1\n",
    "df2_c1 = df2[df2['y']==0] #get class1 for train2\n",
    "df2_c2 = df2[df2['y']==1] #get class1 for train2\n",
    "\n",
    "bins = np.linspace(-3, 7.5)\n",
    "plt.hist(df1_c1[\"x1\"], bins, alpha=0.5, label='c1',color = 'r')\n",
    "plt.hist(df1_c2[\"x1\"], bins, alpha=0.5, label='c2', color='b')\n",
    "plt.gca().set(title='Data distribution of feature x1 of trainingSet 1', ylabel='Frequency')\n",
    "plt.legend(loc='upper right')\n",
    "plt.show()\n",
    "\n",
    "plt.hist(df1_c1[\"x2\"], bins, alpha=0.5, label='c1', color=\"r\")\n",
    "plt.hist(df1_c2[\"x2\"], bins, alpha=0.5, label='c2', color=\"b\")\n",
    "plt.gca().set(title='Data distribution of feature x2 of trainingSet 1', ylabel='Frequency')\n",
    "plt.legend(loc='upper right')\n",
    "plt.show()\n",
    "\n",
    "plt.hist(df2_c1[\"x1\"], bins, alpha=0.5, label='c1', color=\"r\")\n",
    "plt.hist(df2_c2[\"x1\"], bins, alpha=0.5, label='c2', color=\"b\")\n",
    "plt.gca().set(title='Data distribution of feature x1 of trainingSet 2', ylabel='Frequency')\n",
    "plt.legend(loc='upper right')\n",
    "plt.show()\n",
    "\n",
    "plt.hist(df2_c1[\"x2\"], bins, alpha=0.5, label='c1', color=\"r\")\n",
    "plt.hist(df2_c2[\"x2\"], bins, alpha=0.5, label='c2', color=\"b\")\n",
    "plt.gca().set(title='Data distribution of feature x2 of trainingSet 2', ylabel='Frequency')\n",
    "#plt.title(\"Histogram of x2 feature at df2\")\n",
    "plt.legend(loc='upper right')\n",
    "plt.show()"
   ]
  },
  {
   "cell_type": "code",
   "execution_count": 11,
   "metadata": {},
   "outputs": [
    {
     "data": {
      "image/png": "[encoded data removed]",
      "text/plain": [
       "<Figure size 432x288 with 1 Axes>"
      ]
     },
     "metadata": {
      "needs_background": "light"
     },
     "output_type": "display_data"
    },
    {
     "data": {
      "image/png": "[encoded data removed]",
      "text/plain": [
       "<Figure size 432x288 with 1 Axes>"
      ]
     },
     "metadata": {
      "needs_background": "light"
     },
     "output_type": "display_data"
    },
    {
     "data": {
      "text/plain": [
       "'\\nx1 = np.arange(-4,4,0.02)\\n#x21 = np.arange(-0.1,2,0.02)\\n#0 = -3.30*x11 -2.03*x21\\na*x1 + b*x2 = c\\nx2 = (c- a*x1)/b\\n\\nplt.scatter(X1_c1[\"x1\"],X1_c1[\"x2\"], c = \\'r\\',s=5, alpha=0.3)\\nplt.scatter(X1_c2[\"x1\"],X1_c2[\"x2\"], c = \\'b\\',s=5, alpha=0.3)\\nplt.scatter(x1, (3.3*x1)/(-2.03) ,c = \\'g\\',s=5, alpha=0.3)\\nplt.show()'"
      ]
     },
     "execution_count": 11,
     "metadata": {},
     "output_type": "execute_result"
    }
   ],
   "source": [
    "#x1 on x-axis and x2 on y-axis\n",
    "#x2 =-ax1/b\n",
    "x1 = np.arange(-4,4,0.02)\n",
    "plt.scatter(df1_c1[\"x1\"],df1_c1[\"x2\"], label = 'c1', c = 'r',s=5, alpha=0.3)\n",
    "plt.scatter(df1_c2[\"x1\"],df1_c2[\"x2\"], label = 'c2', c = 'b',s=5, alpha=0.3)\n",
    "plt.scatter(x1, (-11 + 3.3*x1)/(-2.03),c = 'g',s=5, alpha=0.3)\n",
    "plt.xlabel(\"x1\")\n",
    "plt.ylabel(\"x2\")\n",
    "plt.gca().set(title='Ploting Train1 ')\n",
    "plt.legend(loc='upper right')\n",
    "plt.show()\n",
    "\n",
    "plt.scatter(df2_c1[\"x1\"],df2_c1[\"x2\"], label = 'c1', c = 'r',s=5, alpha=0.3)\n",
    "plt.scatter(df2_c2[\"x1\"],df2_c2[\"x2\"], label = 'c2', c = 'b',s=5, alpha=0.3)\n",
    "plt.xlabel(\"x1\")\n",
    "plt.ylabel(\"x2\")\n",
    "plt.gca().set(title='Ploting Train2 ')\n",
    "plt.legend(loc='upper right')\n",
    "plt.show()\n",
    "\n",
    "\"\"\"\n",
    "x1 = np.arange(-4,4,0.02)\n",
    "#x21 = np.arange(-0.1,2,0.02)\n",
    "#0 = -3.30*x11 -2.03*x21\n",
    "a*x1 + b*x2 = c\n",
    "x2 = (c- a*x1)/b\n",
    "\n",
    "plt.scatter(X1_c1[\"x1\"],X1_c1[\"x2\"], c = 'r',s=5, alpha=0.3)\n",
    "plt.scatter(X1_c2[\"x1\"],X1_c2[\"x2\"], c = 'b',s=5, alpha=0.3)\n",
    "plt.scatter(x1, (3.3*x1)/(-2.03) ,c = 'g',s=5, alpha=0.3)\n",
    "plt.show()\"\"\""
   ]
  },
  {
   "cell_type": "code",
   "execution_count": null,
   "metadata": {},
   "outputs": [],
   "source": []
  },
  {
   "cell_type": "markdown",
   "metadata": {},
   "source": [
    "# Yorumları buraya ekle\n",
    "# Add your comments as markdown cells(This is a markdown cell).\n",
    "\n",
    "## To add a markdown cell, simply click on a cell, then click on the 'Cell' tab above, change 'Cell Type' to 'Markdown'\n",
    "\n",
    "Then add your comment! To view the format of this markdown cell, double click on here.\n",
    "\n",
    "### Note: We provide you with example codes for starter, but feel free to delete anything we provide and write your own code, as long as you use allowed libraries and modules. "
   ]
  },
  {
   "cell_type": "markdown",
   "metadata": {},
   "source": [
    "## Part B: Implement Naive Bayes Classifier"
   ]
  },
  {
   "cell_type": "code",
   "execution_count": 12,
   "metadata": {},
   "outputs": [],
   "source": [
    "#Implement PART B:\n",
    "#get test data\n",
    "test1 = pd.read_csv(\"test1.csv\")\n",
    "test2 = pd.read_csv(\"test2.csv\")\n"
   ]
  },
  {
   "cell_type": "code",
   "execution_count": 13,
   "metadata": {},
   "outputs": [
    {
     "data": {
      "text/plain": [
       "(100, 3)"
      ]
     },
     "execution_count": 13,
     "metadata": {},
     "output_type": "execute_result"
    }
   ],
   "source": [
    "test1.shape"
   ]
  },
  {
   "cell_type": "code",
   "execution_count": 14,
   "metadata": {},
   "outputs": [],
   "source": [
    "#calculate variance funtion and calculate covariance function \n",
    "def calculatevariance(Xi,N):\n",
    "    Xm = np.average(Xi)\n",
    "    var = 0.0\n",
    "    for i in np.arange(0, N):\n",
    "        var = ((Xi.values[i] - Xm)**2) + var\n",
    "    return  (1./(N))*var\n",
    "\n",
    "def calculatecovariance(Xi, Xk, N):\n",
    "    Xim=np.average(Xi)\n",
    "    Xkm=np.average(Xk)\n",
    "    cov = 0.0\n",
    "    for i in np.arange(0, N):\n",
    "        cov = (Xi.values[i]-Xim)*(Xk.values[i]-Xkm) + cov\n",
    "    return  (1./(N))*cov\n"
   ]
  },
  {
   "cell_type": "code",
   "execution_count": 15,
   "metadata": {},
   "outputs": [
    {
     "name": "stdout",
     "output_type": "stream",
     "text": [
      "Number of class 1 at Train 1: 100\n",
      "Number of class 2 at Train 1: 100\n",
      "Number of class 1 at Train 2: 800\n",
      "Number of class 2 at Train 2: 800\n"
     ]
    }
   ],
   "source": [
    "#******************************************************************************************************************************\n",
    "#X1 -> features of train 1, X2->features of train 2\n",
    "#c1->class1, c2->class2, x1->feature1, x2->feature2\n",
    "#class1 is samples that have label score 0, class2 is samples that have label score 1\n",
    "#\n",
    "#==>df1_c1 = data of class 1 at train 1\n",
    "#==>X1_c1 = features of class1 at train 1(x1 and x2 column)\n",
    "#*******************************************************************************************************************************\n",
    "\n",
    "#for train 1\n",
    "df1_c1 = df1[df1['y']==0] #get data that are class1\n",
    "X1_c1 = pd.DataFrame(df1_c1, columns = ['x1', 'x2']) #get features that are class1\n",
    "\n",
    "df1_c2 = df1[df1['y']==1] #get data that are class2\n",
    "X1_c2 = pd.DataFrame(df1_c2, columns = ['x1', 'x2'])#get features that are class1\n",
    "\n",
    "#for train 2\n",
    "df2_c1 = df2[df2['y']==0]#get data that are class1\n",
    "X2_c1 = pd.DataFrame(df2_c1, columns = ['x1', 'x2'])#get features that are class1\n",
    "\n",
    "df2_c2 = df2[df2['y']==1]#get data that are class2\n",
    "X2_c2 = pd.DataFrame(df2_c2, columns = ['x1', 'x2'])#get features that are class2\n",
    "\n",
    "#calculate samples\n",
    "N1_c1 = X1_c1.shape[0]\n",
    "N1_c2 = X1_c2.shape[0]\n",
    "\n",
    "N2_c1 = X2_c1.shape[0]\n",
    "N2_c2 = X2_c2.shape[0]\n",
    "\n",
    "print(\"Number of class 1 at Train 1:\",N1_c1)\n",
    "print(\"Number of class 2 at Train 1:\",N1_c2)\n",
    "print(\"Number of class 1 at Train 2:\",N2_c1)\n",
    "print(\"Number of class 2 at Train 2:\",N2_c2)"
   ]
  },
  {
   "cell_type": "code",
   "execution_count": 16,
   "metadata": {},
   "outputs": [
    {
     "name": "stdout",
     "output_type": "stream",
     "text": [
      "Calculate mean vector and covariance matrix for train 1\n",
      "for class 1\n",
      "mean:\n",
      " [[-1.04624698]\n",
      " [ 3.26924606]]\n",
      "covariance matrix:\n",
      " [[ 1.13557089 -0.37320387]\n",
      " [-0.37320387  2.08327195]]\n",
      "***********************************************************************************************************************\n",
      "for class 2\n",
      "mean:\n",
      " [[1.95375302]\n",
      " [6.26924606]]\n",
      "covariance matrix:\n",
      " [[ 1.13557089 -0.37320387]\n",
      " [-0.37320387  2.08327195]]\n",
      "***********************************************************************************************************************\n",
      "Calculate mean vector covariance matrix for train 2\n",
      "for class 1\n",
      "mean:\n",
      " [[ 0.00246486]\n",
      " [-0.01971604]]\n",
      "covariance matrix:\n",
      " [[1.91970895 0.85690451]\n",
      " [0.85690451 2.83579458]]\n",
      "***********************************************************************************************************************\n",
      "for class 2\n",
      "mean:\n",
      " [[2.0536608 ]\n",
      " [2.97765078]]\n",
      "covariance matrix:\n",
      " [[ 0.99645235 -0.81777973]\n",
      " [-0.81777973  2.94594199]]\n",
      "***********************************************************************************************************************\n"
     ]
    }
   ],
   "source": [
    "#*****************************************************************************************************************************\n",
    "#mu11 = mean of class 1 at train 1\n",
    "#cov11 = covariance matrix of class 1 at train 1\n",
    "#mu22 = mean of class 2 at train 2\n",
    "#cov22 = covariance matrix of class 2 at train 2\n",
    "\n",
    "#varx1 = variance of x1 feature\n",
    "#covx2x2 = covariance between x1 feature and x2 feature\n",
    "#******************************************************************************************************************************\n",
    "\n",
    "print(\"Calculate mean vector and covariance matrix for train 1\")\n",
    "\n",
    "print(\"for class 1\")\n",
    "mean_vctr11 = np.mean(X1_c1, axis=0)\n",
    "mu11 = pd.DataFrame(data=mean_vctr11)\n",
    "print(\"mean:\\n\",mu11.values)\n",
    "#print(\"meanT:\\n\",mu11.values.T)\n",
    "#print(\"mean1:\\n\",mean_vctr11)\n",
    "#print(\"mean1T:\\n\",np.transpose(mean_vctr11))\n",
    "\n",
    "varx1 = calculatevariance(X1_c1[\"x1\"], N1_c1)\n",
    "varx2 = calculatevariance(X1_c1[\"x2\"], N1_c1)\n",
    "covx1x2 = calculatecovariance(X1_c1[\"x1\"],X1_c1[\"x2\"], N1_c1)\n",
    "covx2x1 = calculatecovariance(X1_c1[\"x2\"],X1_c1[\"x1\"], N1_c1)\n",
    "\n",
    "cov_mtrx11 = [[varx1,covx1x2],[covx2x1,varx2]]\n",
    "cov11 = pd.DataFrame(data = np.array(cov_mtrx11))\n",
    "print(\"covariance matrix:\\n\",cov11.values)\n",
    "print(\"***********************************************************************************************************************\")\n",
    "\n",
    "print(\"for class 2\")\n",
    "mean_vctr12 = np.mean(X1_c2, axis=0)\n",
    "mu12 = pd.DataFrame(data=mean_vctr12)\n",
    "print(\"mean:\\n\",mu12.values)\n",
    "\n",
    "varx1 = calculatevariance(X1_c2[\"x1\"], N1_c2)\n",
    "varx2 = calculatevariance(X1_c2[\"x2\"], N1_c2)\n",
    "covx1x2 = calculatecovariance(X1_c2[\"x1\"],X1_c2[\"x2\"], N1_c2)\n",
    "covx2x1 = calculatecovariance(X1_c2[\"x2\"],X1_c2[\"x1\"], N1_c2)\n",
    "\n",
    "cov_mtrx12 = [[varx1,covx1x2],[covx2x1,varx2]]\n",
    "cov12 = pd.DataFrame(data = np.array(cov_mtrx12))\n",
    "print(\"covariance matrix:\\n\",cov12.values)\n",
    "print(\"***********************************************************************************************************************\")\n",
    "\n",
    "print(\"Calculate mean vector covariance matrix for train 2\")\n",
    "\n",
    "print(\"for class 1\")\n",
    "mean_vctr21 = np.mean(X2_c1, axis=0)\n",
    "mu21 = pd.DataFrame(data=mean_vctr21)\n",
    "print(\"mean:\\n\",mu21.values)\n",
    "\n",
    "varx1 = calculatevariance(X2_c1[\"x1\"], N2_c1)\n",
    "varx2 = calculatevariance(X2_c1[\"x2\"], N2_c1)\n",
    "covx1x2 = calculatecovariance(X2_c1[\"x1\"],X2_c1[\"x2\"], N2_c1)\n",
    "covx2x1 = calculatecovariance(X2_c1[\"x2\"],X2_c1[\"x1\"], N2_c1)\n",
    "\n",
    "cov_mtrx21 = [[varx1,covx1x2],[covx2x1,varx2]]\n",
    "cov21 = pd.DataFrame(data = np.array(cov_mtrx21))\n",
    "print(\"covariance matrix:\\n\",cov21.values)\n",
    "print(\"***********************************************************************************************************************\")\n",
    "\n",
    "print(\"for class 2\")\n",
    "mean_vctr22 = np.mean(X2_c2, axis=0)\n",
    "mu22 = pd.DataFrame(data=mean_vctr22)\n",
    "print(\"mean:\\n\",mu22.values)\n",
    "\n",
    "varx1 = calculatevariance(X2_c2[\"x1\"], N2_c2)\n",
    "varx2 = calculatevariance(X2_c2[\"x2\"], N2_c2)\n",
    "covx1x2 = calculatecovariance(X2_c2[\"x1\"],X2_c2[\"x2\"], N2_c2)\n",
    "covx2x1 = calculatecovariance(X2_c2[\"x2\"],X2_c2[\"x1\"], N2_c2)\n",
    "\n",
    "cov_mtrx22 = [[varx1,covx1x2],[covx2x1,varx2]]\n",
    "cov22 = pd.DataFrame(data = np.array(cov_mtrx22))\n",
    "print(\"covariance matrix:\\n\",cov22.values)\n",
    "\n",
    "print(\"***********************************************************************************************************************\")"
   ]
  },
  {
   "cell_type": "code",
   "execution_count": 17,
   "metadata": {},
   "outputs": [
    {
     "name": "stdout",
     "output_type": "stream",
     "text": [
      "-3.3099870354653627 -2.0330038850095193\n"
     ]
    }
   ],
   "source": [
    "#BURAYA SONRA BAK. BUNU KULLANABİLİRİM.\n",
    "def func11(cov,mu_i,mu_k):\n",
    "    cov_inv = np.linalg.inv(cov11) #inverse of covariance matrix11, cov11 = cov12\n",
    "    mu_i_t = mu_i.T # transpoze of mean11 \n",
    "    mu_k_t = mu_k.T # transpoze of mean12\n",
    "    result = (mu_i_t-mu_k_t).dot(cov_inv)\n",
    "    return result.values\n",
    "u = func11(cov11,mu11,mu12)\n",
    "\n",
    "#ax1+ bx2 = 0\n",
    "a =u[0][0] \n",
    "b =u[0][1] \n",
    "print(a,b)\n",
    "#x2 =-ax1/b"
   ]
  },
  {
   "cell_type": "code",
   "execution_count": 18,
   "metadata": {},
   "outputs": [
    {
     "name": "stdout",
     "output_type": "stream",
     "text": [
      "for train 1\n",
      "p(c1): 0.5\n",
      "p(c2): 0.5\n",
      "[0.5, 0.5]\n",
      "for train 2\n",
      "p(c1): 0.5\n",
      "p(c2): 0.5\n"
     ]
    }
   ],
   "source": [
    "#p(c1) and p(c2) for each train set\n",
    "pc11 = N1_c1 / N1\n",
    "pc12 = N1_c2 / N1\n",
    "\n",
    "pc1 = []\n",
    "pc1.append(pc11)\n",
    "pc1.append(pc12)\n",
    "\n",
    "print(\"for train 1\")\n",
    "print(\"p(c1):\", pc11)\n",
    "print(\"p(c2):\", pc12)\n",
    "print(pc1)\n",
    "\n",
    "pc21 = N2_c1 / N2\n",
    "pc22 = N2_c2 / N2\n",
    "\n",
    "print(\"for train 2\")\n",
    "print(\"p(c1):\", pc21)\n",
    "print(\"p(c2):\", pc22)"
   ]
  },
  {
   "cell_type": "code",
   "execution_count": 19,
   "metadata": {
    "scrolled": true
   },
   "outputs": [
    {
     "data": {
      "text/html": [
       "<div>\n",
       "<style scoped>\n",
       "    .dataframe tbody tr th:only-of-type {\n",
       "        vertical-align: middle;\n",
       "    }\n",
       "\n",
       "    .dataframe tbody tr th {\n",
       "        vertical-align: top;\n",
       "    }\n",
       "\n",
       "    .dataframe thead th {\n",
       "        text-align: right;\n",
       "    }\n",
       "</style>\n",
       "<table border=\"1\" class=\"dataframe\">\n",
       "  <thead>\n",
       "    <tr style=\"text-align: right;\">\n",
       "      <th></th>\n",
       "      <th>x1</th>\n",
       "      <th>x2</th>\n",
       "      <th>y</th>\n",
       "    </tr>\n",
       "  </thead>\n",
       "  <tbody>\n",
       "    <tr>\n",
       "      <td>0</td>\n",
       "      <td>-0.669476</td>\n",
       "      <td>2.878985</td>\n",
       "      <td>0</td>\n",
       "    </tr>\n",
       "    <tr>\n",
       "      <td>1</td>\n",
       "      <td>-0.269832</td>\n",
       "      <td>4.914304</td>\n",
       "      <td>0</td>\n",
       "    </tr>\n",
       "    <tr>\n",
       "      <td>2</td>\n",
       "      <td>-1.190915</td>\n",
       "      <td>2.621502</td>\n",
       "      <td>0</td>\n",
       "    </tr>\n",
       "    <tr>\n",
       "      <td>3</td>\n",
       "      <td>-2.519063</td>\n",
       "      <td>7.181744</td>\n",
       "      <td>0</td>\n",
       "    </tr>\n",
       "    <tr>\n",
       "      <td>4</td>\n",
       "      <td>0.242555</td>\n",
       "      <td>1.992505</td>\n",
       "      <td>0</td>\n",
       "    </tr>\n",
       "    <tr>\n",
       "      <td>...</td>\n",
       "      <td>...</td>\n",
       "      <td>...</td>\n",
       "      <td>...</td>\n",
       "    </tr>\n",
       "    <tr>\n",
       "      <td>95</td>\n",
       "      <td>-1.477077</td>\n",
       "      <td>2.388638</td>\n",
       "      <td>0</td>\n",
       "    </tr>\n",
       "    <tr>\n",
       "      <td>96</td>\n",
       "      <td>2.410858</td>\n",
       "      <td>8.014465</td>\n",
       "      <td>1</td>\n",
       "    </tr>\n",
       "    <tr>\n",
       "      <td>97</td>\n",
       "      <td>-1.886254</td>\n",
       "      <td>4.682919</td>\n",
       "      <td>0</td>\n",
       "    </tr>\n",
       "    <tr>\n",
       "      <td>98</td>\n",
       "      <td>-0.157498</td>\n",
       "      <td>3.740511</td>\n",
       "      <td>0</td>\n",
       "    </tr>\n",
       "    <tr>\n",
       "      <td>99</td>\n",
       "      <td>-3.981403</td>\n",
       "      <td>3.560003</td>\n",
       "      <td>0</td>\n",
       "    </tr>\n",
       "  </tbody>\n",
       "</table>\n",
       "<p>100 rows × 3 columns</p>\n",
       "</div>"
      ],
      "text/plain": [
       "          x1        x2  y\n",
       "0  -0.669476  2.878985  0\n",
       "1  -0.269832  4.914304  0\n",
       "2  -1.190915  2.621502  0\n",
       "3  -2.519063  7.181744  0\n",
       "4   0.242555  1.992505  0\n",
       "..       ...       ... ..\n",
       "95 -1.477077  2.388638  0\n",
       "96  2.410858  8.014465  1\n",
       "97 -1.886254  4.682919  0\n",
       "98 -0.157498  3.740511  0\n",
       "99 -3.981403  3.560003  0\n",
       "\n",
       "[100 rows x 3 columns]"
      ]
     },
     "execution_count": 19,
     "metadata": {},
     "output_type": "execute_result"
    }
   ],
   "source": [
    "#Get Test values\n",
    "#SONRA SİL BURAYI\n",
    "Xt1 = pd.DataFrame(test1, columns = ['x1', 'x2']) #features of train 1\n",
    "yt1 = pd.DataFrame(test1, columns = ['y']) #labels of train 1\n",
    "#Xt1\n",
    "test1.head(20)\n",
    "test1"
   ]
  },
  {
   "cell_type": "code",
   "execution_count": 20,
   "metadata": {},
   "outputs": [
    {
     "name": "stdout",
     "output_type": "stream",
     "text": [
      "Number of class 1 at Test 1: 50\n",
      "Number of class 2 at Test 1: 50\n",
      "Number of class 1 at Test 2: 194\n",
      "Number of class 2 at Test 2: 206\n"
     ]
    }
   ],
   "source": [
    "#******************************************************************************************************************************\n",
    "#Xt1 -> features of test 1, Xt2->features of test 2\n",
    "#c1->class1, c2->class2, x1->feature1, x2->feature2\n",
    "#class1 is samples that have label score 0, class2 is samples that have label score 1\n",
    "#\n",
    "#==>test1_c1 = data of class 1 at train 1\n",
    "#==>Xt1_c1 = features of class1 at train 1(x1 and x2 column)\n",
    "#*******************************************************************************************************************************\n",
    "\n",
    "Xt1 = pd.DataFrame(test1, columns = ['x1', 'x2']) #features of test 1\n",
    "yt1 = pd.DataFrame(test1, columns = ['y']) #label of test 1\n",
    "\n",
    "Xt2 = pd.DataFrame(test2, columns = ['x1', 'x2']) #features of test 2\n",
    "yt2 = pd.DataFrame(test2, columns = ['y']) #label of test 2\n",
    "\n",
    "#for test 1\n",
    "test1_c1 = test1[test1['y']==0] #get test data that are class1\n",
    "Xt1_c1 = pd.DataFrame(test1_c1, columns = ['x1', 'x2']) #get features that are class1\n",
    "\n",
    "test1_c2 = test1[test1['y']==1] #get test data that are class2\n",
    "Xt1_c2 = pd.DataFrame(test1_c2, columns = ['x1', 'x2']) #get features that are class2\n",
    "\n",
    "#for test 2\n",
    "test2_c1 = test2[test2['y']==0] #get test data that are class1\n",
    "Xt2_c1 = pd.DataFrame(test2_c1, columns = ['x1', 'x2']) #get features that are class1\n",
    "\n",
    "test2_c2 = test2[test2['y']==1] #get test data that are class2\n",
    "Xt2_c2 = pd.DataFrame(test2_c2, columns = ['x1', 'x2']) #get features that are class2\n",
    "\n",
    "\n",
    "\n",
    "#calculate samples\n",
    "Ntest1_c1 = test1_c1.shape[0]\n",
    "Ntest1_c2 = test1_c2.shape[0]\n",
    "\n",
    "Ntest2_c1 = test2_c1.shape[0]\n",
    "Ntest2_c2 = test2_c2.shape[0]\n",
    "\n",
    "print(\"Number of class 1 at Test 1:\",Ntest1_c1)\n",
    "print(\"Number of class 2 at Test 1:\",Ntest1_c2)\n",
    "print(\"Number of class 1 at Test 2:\",Ntest2_c1)\n",
    "print(\"Number of class 2 at Test 2:\",Ntest2_c2)"
   ]
  },
  {
   "cell_type": "code",
   "execution_count": 21,
   "metadata": {},
   "outputs": [],
   "source": [
    "def calculatevariance(Xi,N):\n",
    "    Xm = np.average(Xi)\n",
    "    var = 0.0\n",
    "    for i in np.arange(0, N):\n",
    "        var = ((Xi.values[i] - Xm)**2) + var\n",
    "    return  (1./(N))*var\n",
    "\n",
    "def calculatecovariance(Xi, Xk, N):\n",
    "    Xim=np.average(Xi)\n",
    "    Xkm=np.average(Xk)\n",
    "    cov = 0.0\n",
    "    for i in np.arange(0, N):\n",
    "        cov = (Xi.values[i]-Xim)*(Xk.values[i]-Xkm) + cov\n",
    "    return  (1./(N))*cov\n",
    "\n",
    "def mahalanobis(x=None, mu=None, cov=None):\n",
    "    #((x-mu_ci).T) * (inv_cov) * (x-mu_ci)\n",
    "    x_minus_mu = x.values - mu\n",
    "    #print(X.values)\n",
    "    #print(mu)\n",
    "    #print(x_minus_mu)\n",
    "    inv_covmat = np.linalg.inv(cov)\n",
    "    left_term = np.dot(x_minus_mu.T, inv_covmat)\n",
    "    mahal = np.dot(left_term, x_minus_mu)\n",
    "    return mahal.diagonal()\n",
    "\n",
    "def euclidean(x=None, mu=None):\n",
    "    #((x-mu_ci).T) * (x-mu_ci)\n",
    "    x_minus_mu = x.values - mu\n",
    "    #print(X.values)\n",
    "    #print(mu)\n",
    "    #print(x_minus_mu)\n",
    "    euclid = np.dot(x_minus_mu.T, x_minus_mu)\n",
    "    return euclid.diagonal()"
   ]
  },
  {
   "cell_type": "code",
   "execution_count": 22,
   "metadata": {},
   "outputs": [],
   "source": [
    "def findclass(df,x): #df:train set, x:test value [x1 x2] and return predicted label.\n",
    "    dis_func = [] #store gi(x)\n",
    "    cov = [] #store cov_matrix values\n",
    "    mu = [] #store mu values\n",
    "    pc = []\n",
    "    for i in range(1,3): # we have class1 and class2, i = 1,2\n",
    "        df_ci = df[df['y']==(i-1)] #get train data that are class(i-1), class1,class2\n",
    "        X_ci = pd.DataFrame(df_ci, columns = ['x1', 'x2']) #get features that are class(i-1), class1,class2\n",
    "        \n",
    "        N_ci = X_ci.shape[0]\n",
    "        \n",
    "        p_ci = N_ci / df.shape[0]\n",
    "        pc.append(p_ci)\n",
    "        \n",
    "        #print(\"Train Samples of class i:\",N_ci)\n",
    "    \n",
    "        mean_vctr_ci = np.mean(X_ci, axis=0)\n",
    "        mu_ci = pd.DataFrame(data=mean_vctr_ci)\n",
    "        #print(\"mean:\\n\",mu_ci.values)\n",
    "    \n",
    "        varx1 = calculatevariance(X_ci[\"x1\"], N_ci)\n",
    "        varx2 = calculatevariance(X_ci[\"x2\"], N_ci)\n",
    "        covx1x2 = calculatecovariance(X_ci[\"x1\"],X_ci[\"x2\"], N_ci)\n",
    "        covx2x1 = calculatecovariance(X_ci[\"x2\"],X_ci[\"x1\"], N_ci)\n",
    "\n",
    "        cov_mtrx_ci = [[varx1,covx1x2],[covx2x1,varx2]]\n",
    "        cov_ci = pd.DataFrame(data = np.array(cov_mtrx_ci))\n",
    "        #print(\"covariance matrix:\\n\",cov_ci.values)\n",
    "        #print(\"**********************************************************************\")\n",
    "        \n",
    "        mu.append(mu_ci) # add mu to mu list\n",
    "        cov.append(cov_ci) #add cov matrix to cov matrix list\n",
    "        \n",
    "    for i in range(1,3): # we have class1 and class2, i = 1,2\n",
    "        #special case1: mu1=!mu2 and cov_matrix1 == cov_matrix2\n",
    "        if np.allclose(cov[0],cov[1]) and not(np.allclose(mu[0],mu[1])) : #compare cov_matrix_i(cov_c1=?cov_c2)\n",
    "            #ŞİMDİKLİK P(C1) = P(C2) İÇİN YAPILDI. DİĞER DURUM DA EKLENECEK\n",
    "            #gi(x) = (-1/2) * (M||x-mu_ci||)^2 , M||x-mu_ci|| is mahalanobis distance\n",
    "            #mahalanabis(x,mu_ci,cov_ci), mu[0] = mu_c1, mu[1] = mu_c2\n",
    "            mahal = mahalanobis(x, mu[i-1].values,cov[i-1].values)\n",
    "            g_ix = (-0.5)*(mahal**2)\n",
    "            \n",
    "        elif np.allclose(cov[0][0][0],cov[0][1][1]) and np.allclose(cov[1][0][0],cov[1][1][1]):\n",
    "            #ŞİMDİKLİK P(C1) = P(C2) İÇİN YAPILDI. DİĞER DURUM DA EKLENECEK\n",
    "            #gi(x) = - (E||x-mu_ci||)^2 , E||x-mu_ci|| is euclidean distance\n",
    "            #euclidean(x,mu_ci), mu[0] = mu_c1, mu[1] = mu_c2\n",
    "            euclid = euclidean(x,mu[i-1].values)\n",
    "            g_ix = (-1) * (euclid**2)\n",
    "        else:\n",
    "            x_minus_mu = x.values - mu[i-1].values\n",
    "            inv_covmat = np.linalg.inv(cov[i-1].values)\n",
    "            l1 = np.dot(x_minus_mu.T, inv_covmat)\n",
    "            l2 = np.dot(l1, x_minus_mu)\n",
    "            r1 = np.log(np.linalg.det(cov[i-1].values))\n",
    "            \n",
    "            g_ix = (-1/2) * l2 - (1/2) * r1 + np.log(pc[i-1])\n",
    "            \n",
    "        dis_func.append(g_ix)\n",
    "    if dis_func[0]>dis_func[1]: #if g1(x) > g2(x), predict label is class1\n",
    "        predict_y = 0\n",
    "        #print(\"****************************************************\")\n",
    "        #return print(x.values.T,predict_y)\n",
    "        return x.values.T,predict_y\n",
    "    else:                       #if g1(x) < g2(x), predict label is class2\n",
    "        predict_y = 1\n",
    "        #print(\"****************************************************\")\n",
    "        #return print(x.values.T,predict_y)   \n",
    "        return x.values.T,predict_y"
   ]
  },
  {
   "cell_type": "code",
   "execution_count": 23,
   "metadata": {},
   "outputs": [
    {
     "data": {
      "text/plain": [
       "'Xtest_ornek96 = Xt1.values[96] [0.2 0269]\\nprint(Xtest_ornek96)\\nXtest_ornek96 = pd.DataFrame(data=Xtest_ornek96)\\nprint(Xtest_ornek96.values)'"
      ]
     },
     "execution_count": 23,
     "metadata": {},
     "output_type": "execute_result"
    }
   ],
   "source": [
    "\"\"\"Xtest_ornek96 = Xt1.values[96] [0.2 0269]\n",
    "print(Xtest_ornek96)\n",
    "Xtest_ornek96 = pd.DataFrame(data=Xtest_ornek96)\n",
    "print(Xtest_ornek96.values)\"\"\"\n"
   ]
  },
  {
   "cell_type": "code",
   "execution_count": 24,
   "metadata": {},
   "outputs": [
    {
     "data": {
      "text/plain": [
       "'a,b = findclass(df1,Xtest_ornek96)\\nprint(b)'"
      ]
     },
     "execution_count": 24,
     "metadata": {},
     "output_type": "execute_result"
    }
   ],
   "source": [
    "\"\"\"a,b = findclass(df1,Xtest_ornek96)\n",
    "print(b)\"\"\""
   ]
  },
  {
   "cell_type": "code",
   "execution_count": 25,
   "metadata": {},
   "outputs": [
    {
     "name": "stdout",
     "output_type": "stream",
     "text": [
      "rate: % 98.0\n"
     ]
    }
   ],
   "source": [
    "count = 0\n",
    "for i in range(0,test1.shape[0]):\n",
    "    X_test_i = Xt1.values[i]\n",
    "    X_test_i = pd.DataFrame(data=X_test_i)\n",
    "    x,y_pred = findclass(df1,X_test_i)\n",
    "    y = test1[\"y\"].values[i]\n",
    "    if y == y_pred:\n",
    "        count += 1\n",
    "print(\"rate: %\", (count/test1.shape[0])*100)\n",
    "    #print(\"***************************\",test1[\"y\"].values[i])"
   ]
  },
  {
   "cell_type": "code",
   "execution_count": 26,
   "metadata": {},
   "outputs": [
    {
     "name": "stdout",
     "output_type": "stream",
     "text": [
      "rate: % 88.5\n"
     ]
    }
   ],
   "source": [
    "count = 0\n",
    "y_pred = []\n",
    "for i in range(0,test2.shape[0]):\n",
    "    X_test_i = Xt2.values[i]\n",
    "    X_test_i = pd.DataFrame(data=X_test_i)\n",
    "    x,y_pred = findclass(df2,X_test_i)\n",
    "    y = test2[\"y\"].values[i]\n",
    "    if y == y_pred:\n",
    "        count += 1\n",
    "print(\"rate: %\", (count/test2.shape[0])*100)\n",
    "    #print(\"***************************\",test1[\"y\"].values[i])"
   ]
  },
  {
   "cell_type": "markdown",
   "metadata": {},
   "source": [
    "# Yorumları buraya ekle\n",
    "# Add your comments as markdown cells(This is a markdown cell).\n",
    "\n",
    "## To add a markdown cell, simply click on a cell, then click on the 'Cell' tab above, change 'Cell Type' to 'Markdown'\n",
    "\n",
    "Then add your comment! To view the format of this markdown cell, double click on here.\n",
    "\n",
    "### Note: We provide you with example codes for starter, but feel free to delete anything we provide and write your own code, as long as you use allowed libraries and modules. "
   ]
  },
  {
   "cell_type": "markdown",
   "metadata": {},
   "source": [
    "## Part C: Implement K-Fold Cross Validation"
   ]
  },
  {
   "cell_type": "code",
   "execution_count": 27,
   "metadata": {},
   "outputs": [
    {
     "data": {
      "text/html": [
       "<div>\n",
       "<style scoped>\n",
       "    .dataframe tbody tr th:only-of-type {\n",
       "        vertical-align: middle;\n",
       "    }\n",
       "\n",
       "    .dataframe tbody tr th {\n",
       "        vertical-align: top;\n",
       "    }\n",
       "\n",
       "    .dataframe thead th {\n",
       "        text-align: right;\n",
       "    }\n",
       "</style>\n",
       "<table border=\"1\" class=\"dataframe\">\n",
       "  <thead>\n",
       "    <tr style=\"text-align: right;\">\n",
       "      <th></th>\n",
       "      <th>x1</th>\n",
       "      <th>x2</th>\n",
       "      <th>y</th>\n",
       "    </tr>\n",
       "  </thead>\n",
       "  <tbody>\n",
       "    <tr>\n",
       "      <td>0</td>\n",
       "      <td>-0.260234</td>\n",
       "      <td>2.767817</td>\n",
       "      <td>0</td>\n",
       "    </tr>\n",
       "    <tr>\n",
       "      <td>1</td>\n",
       "      <td>3.466190</td>\n",
       "      <td>6.054691</td>\n",
       "      <td>1</td>\n",
       "    </tr>\n",
       "    <tr>\n",
       "      <td>2</td>\n",
       "      <td>-2.036224</td>\n",
       "      <td>4.491902</td>\n",
       "      <td>0</td>\n",
       "    </tr>\n",
       "    <tr>\n",
       "      <td>3</td>\n",
       "      <td>2.434426</td>\n",
       "      <td>6.638656</td>\n",
       "      <td>1</td>\n",
       "    </tr>\n",
       "    <tr>\n",
       "      <td>4</td>\n",
       "      <td>-0.541338</td>\n",
       "      <td>3.210246</td>\n",
       "      <td>0</td>\n",
       "    </tr>\n",
       "    <tr>\n",
       "      <td>...</td>\n",
       "      <td>...</td>\n",
       "      <td>...</td>\n",
       "      <td>...</td>\n",
       "    </tr>\n",
       "    <tr>\n",
       "      <td>195</td>\n",
       "      <td>1.832132</td>\n",
       "      <td>6.247191</td>\n",
       "      <td>1</td>\n",
       "    </tr>\n",
       "    <tr>\n",
       "      <td>196</td>\n",
       "      <td>1.215533</td>\n",
       "      <td>5.750448</td>\n",
       "      <td>1</td>\n",
       "    </tr>\n",
       "    <tr>\n",
       "      <td>197</td>\n",
       "      <td>-0.464053</td>\n",
       "      <td>3.034393</td>\n",
       "      <td>0</td>\n",
       "    </tr>\n",
       "    <tr>\n",
       "      <td>198</td>\n",
       "      <td>2.638937</td>\n",
       "      <td>5.043589</td>\n",
       "      <td>1</td>\n",
       "    </tr>\n",
       "    <tr>\n",
       "      <td>199</td>\n",
       "      <td>-0.439450</td>\n",
       "      <td>3.853694</td>\n",
       "      <td>0</td>\n",
       "    </tr>\n",
       "  </tbody>\n",
       "</table>\n",
       "<p>200 rows × 3 columns</p>\n",
       "</div>"
      ],
      "text/plain": [
       "           x1        x2  y\n",
       "0   -0.260234  2.767817  0\n",
       "1    3.466190  6.054691  1\n",
       "2   -2.036224  4.491902  0\n",
       "3    2.434426  6.638656  1\n",
       "4   -0.541338  3.210246  0\n",
       "..        ...       ... ..\n",
       "195  1.832132  6.247191  1\n",
       "196  1.215533  5.750448  1\n",
       "197 -0.464053  3.034393  0\n",
       "198  2.638937  5.043589  1\n",
       "199 -0.439450  3.853694  0\n",
       "\n",
       "[200 rows x 3 columns]"
      ]
     },
     "execution_count": 27,
     "metadata": {},
     "output_type": "execute_result"
    }
   ],
   "source": [
    "df1"
   ]
  },
  {
   "cell_type": "code",
   "execution_count": 28,
   "metadata": {},
   "outputs": [
    {
     "data": {
      "text/html": [
       "<div>\n",
       "<style scoped>\n",
       "    .dataframe tbody tr th:only-of-type {\n",
       "        vertical-align: middle;\n",
       "    }\n",
       "\n",
       "    .dataframe tbody tr th {\n",
       "        vertical-align: top;\n",
       "    }\n",
       "\n",
       "    .dataframe thead th {\n",
       "        text-align: right;\n",
       "    }\n",
       "</style>\n",
       "<table border=\"1\" class=\"dataframe\">\n",
       "  <thead>\n",
       "    <tr style=\"text-align: right;\">\n",
       "      <th></th>\n",
       "      <th>x1</th>\n",
       "      <th>x2</th>\n",
       "      <th>y</th>\n",
       "    </tr>\n",
       "  </thead>\n",
       "  <tbody>\n",
       "    <tr>\n",
       "      <td>0</td>\n",
       "      <td>-0.669476</td>\n",
       "      <td>2.878985</td>\n",
       "      <td>0</td>\n",
       "    </tr>\n",
       "    <tr>\n",
       "      <td>1</td>\n",
       "      <td>-0.269832</td>\n",
       "      <td>4.914304</td>\n",
       "      <td>0</td>\n",
       "    </tr>\n",
       "    <tr>\n",
       "      <td>2</td>\n",
       "      <td>-1.190915</td>\n",
       "      <td>2.621502</td>\n",
       "      <td>0</td>\n",
       "    </tr>\n",
       "    <tr>\n",
       "      <td>3</td>\n",
       "      <td>-2.519063</td>\n",
       "      <td>7.181744</td>\n",
       "      <td>0</td>\n",
       "    </tr>\n",
       "    <tr>\n",
       "      <td>4</td>\n",
       "      <td>0.242555</td>\n",
       "      <td>1.992505</td>\n",
       "      <td>0</td>\n",
       "    </tr>\n",
       "    <tr>\n",
       "      <td>...</td>\n",
       "      <td>...</td>\n",
       "      <td>...</td>\n",
       "      <td>...</td>\n",
       "    </tr>\n",
       "    <tr>\n",
       "      <td>95</td>\n",
       "      <td>-1.477077</td>\n",
       "      <td>2.388638</td>\n",
       "      <td>0</td>\n",
       "    </tr>\n",
       "    <tr>\n",
       "      <td>96</td>\n",
       "      <td>2.410858</td>\n",
       "      <td>8.014465</td>\n",
       "      <td>1</td>\n",
       "    </tr>\n",
       "    <tr>\n",
       "      <td>97</td>\n",
       "      <td>-1.886254</td>\n",
       "      <td>4.682919</td>\n",
       "      <td>0</td>\n",
       "    </tr>\n",
       "    <tr>\n",
       "      <td>98</td>\n",
       "      <td>-0.157498</td>\n",
       "      <td>3.740511</td>\n",
       "      <td>0</td>\n",
       "    </tr>\n",
       "    <tr>\n",
       "      <td>99</td>\n",
       "      <td>-3.981403</td>\n",
       "      <td>3.560003</td>\n",
       "      <td>0</td>\n",
       "    </tr>\n",
       "  </tbody>\n",
       "</table>\n",
       "<p>100 rows × 3 columns</p>\n",
       "</div>"
      ],
      "text/plain": [
       "          x1        x2  y\n",
       "0  -0.669476  2.878985  0\n",
       "1  -0.269832  4.914304  0\n",
       "2  -1.190915  2.621502  0\n",
       "3  -2.519063  7.181744  0\n",
       "4   0.242555  1.992505  0\n",
       "..       ...       ... ..\n",
       "95 -1.477077  2.388638  0\n",
       "96  2.410858  8.014465  1\n",
       "97 -1.886254  4.682919  0\n",
       "98 -0.157498  3.740511  0\n",
       "99 -3.981403  3.560003  0\n",
       "\n",
       "[100 rows x 3 columns]"
      ]
     },
     "execution_count": 28,
     "metadata": {},
     "output_type": "execute_result"
    }
   ],
   "source": [
    "test1"
   ]
  },
  {
   "cell_type": "code",
   "execution_count": 29,
   "metadata": {},
   "outputs": [
    {
     "data": {
      "text/html": [
       "<div>\n",
       "<style scoped>\n",
       "    .dataframe tbody tr th:only-of-type {\n",
       "        vertical-align: middle;\n",
       "    }\n",
       "\n",
       "    .dataframe tbody tr th {\n",
       "        vertical-align: top;\n",
       "    }\n",
       "\n",
       "    .dataframe thead th {\n",
       "        text-align: right;\n",
       "    }\n",
       "</style>\n",
       "<table border=\"1\" class=\"dataframe\">\n",
       "  <thead>\n",
       "    <tr style=\"text-align: right;\">\n",
       "      <th></th>\n",
       "      <th>x1</th>\n",
       "      <th>x2</th>\n",
       "      <th>y</th>\n",
       "    </tr>\n",
       "  </thead>\n",
       "  <tbody>\n",
       "    <tr>\n",
       "      <td>0</td>\n",
       "      <td>-0.260234</td>\n",
       "      <td>2.767817</td>\n",
       "      <td>0</td>\n",
       "    </tr>\n",
       "    <tr>\n",
       "      <td>1</td>\n",
       "      <td>3.466190</td>\n",
       "      <td>6.054691</td>\n",
       "      <td>1</td>\n",
       "    </tr>\n",
       "    <tr>\n",
       "      <td>2</td>\n",
       "      <td>-2.036224</td>\n",
       "      <td>4.491902</td>\n",
       "      <td>0</td>\n",
       "    </tr>\n",
       "    <tr>\n",
       "      <td>3</td>\n",
       "      <td>2.434426</td>\n",
       "      <td>6.638656</td>\n",
       "      <td>1</td>\n",
       "    </tr>\n",
       "    <tr>\n",
       "      <td>4</td>\n",
       "      <td>-0.541338</td>\n",
       "      <td>3.210246</td>\n",
       "      <td>0</td>\n",
       "    </tr>\n",
       "    <tr>\n",
       "      <td>...</td>\n",
       "      <td>...</td>\n",
       "      <td>...</td>\n",
       "      <td>...</td>\n",
       "    </tr>\n",
       "    <tr>\n",
       "      <td>95</td>\n",
       "      <td>-1.477077</td>\n",
       "      <td>2.388638</td>\n",
       "      <td>0</td>\n",
       "    </tr>\n",
       "    <tr>\n",
       "      <td>96</td>\n",
       "      <td>2.410858</td>\n",
       "      <td>8.014465</td>\n",
       "      <td>1</td>\n",
       "    </tr>\n",
       "    <tr>\n",
       "      <td>97</td>\n",
       "      <td>-1.886254</td>\n",
       "      <td>4.682919</td>\n",
       "      <td>0</td>\n",
       "    </tr>\n",
       "    <tr>\n",
       "      <td>98</td>\n",
       "      <td>-0.157498</td>\n",
       "      <td>3.740511</td>\n",
       "      <td>0</td>\n",
       "    </tr>\n",
       "    <tr>\n",
       "      <td>99</td>\n",
       "      <td>-3.981403</td>\n",
       "      <td>3.560003</td>\n",
       "      <td>0</td>\n",
       "    </tr>\n",
       "  </tbody>\n",
       "</table>\n",
       "<p>300 rows × 3 columns</p>\n",
       "</div>"
      ],
      "text/plain": [
       "          x1        x2  y\n",
       "0  -0.260234  2.767817  0\n",
       "1   3.466190  6.054691  1\n",
       "2  -2.036224  4.491902  0\n",
       "3   2.434426  6.638656  1\n",
       "4  -0.541338  3.210246  0\n",
       "..       ...       ... ..\n",
       "95 -1.477077  2.388638  0\n",
       "96  2.410858  8.014465  1\n",
       "97 -1.886254  4.682919  0\n",
       "98 -0.157498  3.740511  0\n",
       "99 -3.981403  3.560003  0\n",
       "\n",
       "[300 rows x 3 columns]"
      ]
     },
     "execution_count": 29,
     "metadata": {},
     "output_type": "execute_result"
    }
   ],
   "source": [
    "final1 = pd.concat([df1,test1])\n",
    "final1"
   ]
  },
  {
   "cell_type": "code",
   "execution_count": 30,
   "metadata": {},
   "outputs": [],
   "source": [
    "import numpy as np\n",
    "import pandas as pd\n",
    "import matplotlib.pyplot as plt\n",
    "from sklearn.model_selection import KFold\n",
    "from sklearn import tree\n",
    "from sklearn.metrics import accuracy_score"
   ]
  },
  {
   "cell_type": "code",
   "execution_count": 31,
   "metadata": {},
   "outputs": [
    {
     "name": "stdout",
     "output_type": "stream",
     "text": [
      "Number of class 1 at Test 1: 150\n",
      "Number of class 2 at Test 1: 150\n"
     ]
    }
   ],
   "source": [
    "Xf1 = pd.DataFrame(final1, columns = ['x1', 'x2']) #features of test 1\n",
    "yf1 = pd.DataFrame(final1, columns = ['y']) #label of test 1\n",
    "\n",
    "#Xt2 = pd.DataFrame(test2, columns = ['x1', 'x2']) #features of test 2\n",
    "#yt2 = pd.DataFrame(test2, columns = ['y']) #label of test 2\n",
    "\n",
    "#for test 1\n",
    "final1_c1 = final1[final1['y']==0] #get test data that are class1\n",
    "Xf1_c1 = pd.DataFrame(final1_c1, columns = ['x1', 'x2']) #get features that are class1\n",
    "\n",
    "final1_c2 = final1[final1['y']==1] #get test data that are class2\n",
    "Xf1_c2 = pd.DataFrame(final1_c2, columns = ['x1', 'x2']) #get features that are class2\n",
    "\n",
    "#for test 2\n",
    "#test2_c1 = test2[test2['y']==0] #get test data that are class1\n",
    "#Xt2_c1 = pd.DataFrame(test2_c1, columns = ['x1', 'x2']) #get features that are class1\n",
    "\n",
    "#test2_c2 = test2[test2['y']==1] #get test data that are class2\n",
    "#Xt2_c2 = pd.DataFrame(test2_c2, columns = ['x1', 'x2']) #get features that are class2\n",
    "\n",
    "\n",
    "\n",
    "#calculate samples\n",
    "Nfinal1_c1 = final1_c1.shape[0]\n",
    "Nfinal_c2 = final1_c1.shape[0]\n",
    "\n",
    "#Ntest2_c1 = test2_c1.shape[0]\n",
    "#Ntest2_c2 = test2_c2.shape[0]\n",
    "\n",
    "print(\"Number of class 1 at Test 1:\",Nfinal1_c1)\n",
    "print(\"Number of class 2 at Test 1:\",Nfinal_c2)\n",
    "#print(\"Number of class 1 at Test 2:\",Ntest2_c1)\n",
    "#print(\"Number of class 2 at Test 2:\",Ntest2_c2)"
   ]
  },
  {
   "cell_type": "code",
   "execution_count": 32,
   "metadata": {},
   "outputs": [
    {
     "name": "stdout",
     "output_type": "stream",
     "text": [
      "KFold(n_splits=5, random_state=None, shuffle=True)\n"
     ]
    }
   ],
   "source": [
    "#Split shuffle\n",
    "kf = KFold(n_splits=5,shuffle=True)\n",
    "kf.get_n_splits(Xf1.values)\n",
    "print(kf)\n",
    "#random.seed(1)"
   ]
  },
  {
   "cell_type": "code",
   "execution_count": 33,
   "metadata": {},
   "outputs": [
    {
     "name": "stdout",
     "output_type": "stream",
     "text": [
      "[91.66666666666666, 90.0, 96.66666666666667, 95.0, 100.0]\n"
     ]
    }
   ],
   "source": [
    "accuracy_model = []\n",
    "clf = tree.DecisionTreeClassifier(random_state=20) \n",
    "# Iterate over each train-test split\n",
    "for train_index, test_index in kf.split(Xf1.values):\n",
    "    # Split train-test\n",
    "    X_train, X_test = Xf1.values[train_index], Xf1.values[test_index]\n",
    "    y_train, y_test = yf1.values[train_index], yf1.values[test_index]\n",
    "    #print(X_train)\n",
    "    #print(\"******************************************************\")\n",
    "    # Train the model\n",
    "    model = clf.fit(X_train, y_train)\n",
    "    # Append to accuracy_model the accuracy of the model\n",
    "    accuracy_model.append(accuracy_score(y_test, model.predict(X_test), normalize=True)*100)\n",
    "    \n",
    "# Print the accuracy    \n",
    "print(accuracy_model)"
   ]
  },
  {
   "cell_type": "code",
   "execution_count": 34,
   "metadata": {},
   "outputs": [],
   "source": [
    "def calculatevariance(Xi,N):\n",
    "    Xm = np.average(Xi)\n",
    "    var = 0.0\n",
    "    for i in np.arange(0, N):\n",
    "        var = ((Xi.values[i] - Xm)**2) + var\n",
    "    return  (1./(N))*var\n",
    "\n",
    "def calculatecovariance(Xi, Xk, N):\n",
    "    Xim=np.average(Xi)\n",
    "    Xkm=np.average(Xk)\n",
    "    cov = 0.0\n",
    "    for i in np.arange(0, N):\n",
    "        cov = (Xi.values[i]-Xim)*(Xk.values[i]-Xkm) + cov\n",
    "    return  (1./(N))*cov\n",
    "\n",
    "def mahalanobis(x=None, mu=None, cov=None):\n",
    "    #((x-mu_ci).T) * (inv_cov) * (x-mu_ci)\n",
    "    x_minus_mu = x.values - mu\n",
    "    #print(X.values)\n",
    "    #print(mu)\n",
    "    #print(x_minus_mu)\n",
    "    inv_covmat = np.linalg.inv(cov)\n",
    "    left_term = np.dot(x_minus_mu.T, inv_covmat)\n",
    "    mahal = np.dot(left_term, x_minus_mu)\n",
    "    return mahal.diagonal()\n",
    "\n",
    "def euclidean(x=None, mu=None):\n",
    "    #((x-mu_ci).T) * (x-mu_ci)\n",
    "    x_minus_mu = x.values - mu\n",
    "    #print(X.values)\n",
    "    #print(mu)\n",
    "    #print(x_minus_mu)\n",
    "    euclid = np.dot(x_minus_mu.T, x_minus_mu)\n",
    "    return euclid.diagonal()"
   ]
  },
  {
   "cell_type": "code",
   "execution_count": 35,
   "metadata": {},
   "outputs": [],
   "source": [
    "def findclass(df,x): #df:train set, x:test value [x1 x2] and return predicted label.\n",
    "    dis_func = [] #store gi(x)\n",
    "    cov = [] #store cov_matrix values\n",
    "    mu = [] #store mu values\n",
    "    pc = []\n",
    "    for i in range(1,3): # we have class1 and class2, i = 1,2\n",
    "        df_ci = df[df['y']==(i-1)] #get train data that are class(i-1), class1,class2\n",
    "        X_ci = pd.DataFrame(df_ci, columns = ['x1', 'x2']) #get features that are class(i-1), class1,class2\n",
    "        \n",
    "        N_ci = X_ci.shape[0]\n",
    "        \n",
    "        p_ci = N_ci / df.shape[0]\n",
    "        pc.append(p_ci)\n",
    "        \n",
    "        #print(\"Train Samples of class {}:{}\".format(i,N_ci))\n",
    "    \n",
    "        mean_vctr_ci = np.mean(X_ci, axis=0)\n",
    "        mu_ci = pd.DataFrame(data=mean_vctr_ci)\n",
    "        #print(\"mean:\\n\",mu_ci.values)\n",
    "    \n",
    "        varx1 = calculatevariance(X_ci[\"x1\"], N_ci)\n",
    "        varx2 = calculatevariance(X_ci[\"x2\"], N_ci)\n",
    "        covx1x2 = calculatecovariance(X_ci[\"x1\"],X_ci[\"x2\"], N_ci)\n",
    "        covx2x1 = calculatecovariance(X_ci[\"x2\"],X_ci[\"x1\"], N_ci)\n",
    "\n",
    "        cov_mtrx_ci = [[varx1,covx1x2],[covx2x1,varx2]]\n",
    "        cov_ci = pd.DataFrame(data = np.array(cov_mtrx_ci))\n",
    "        #print(\"covariance matrix:\\n\",cov_ci.values)\n",
    "        #print(\"**********************************************************************\")\n",
    "        \n",
    "        mu.append(mu_ci) # add mu to mu list\n",
    "        cov.append(cov_ci) #add cov matrix to cov matrix list\n",
    "    \n",
    "    #print(\"*******************************************\",pc)\n",
    "    for i in range(1,3): # we have class1 and class2, i = 1,2\n",
    "        #special case1: mu1=!mu2 and cov_matrix1 == cov_matrix2\n",
    "        if np.allclose(cov[0],cov[1]) and not(np.allclose(mu[0],mu[1])) : #compare cov_matrix_i(cov_c1=?cov_c2)\n",
    "            #ŞİMDİKLİK P(C1) = P(C2) İÇİN YAPILDI. DİĞER DURUM DA EKLENECEK\n",
    "            #gi(x) = (-1/2) * (M||x-mu_ci||)^2 , M||x-mu_ci|| is mahalanobis distance\n",
    "            #mahalanabis(x,mu_ci,cov_ci), mu[0] = mu_c1, mu[1] = mu_c2\n",
    "            mahal = mahalanobis(x, mu[i-1].values,cov[i-1].values)\n",
    "            g_ix = (-0.5)*(mahal**2)\n",
    "            #print(\"case1\")\n",
    "        elif np.allclose(cov[0][0][0],cov[0][1][1]) and np.allclose(cov[1][0][0],cov[1][1][1]):\n",
    "            #ŞİMDİKLİK P(C1) = P(C2) İÇİN YAPILDI. DİĞER DURUM DA EKLENECEK\n",
    "            #gi(x) = - (E||x-mu_ci||)^2 , E||x-mu_ci|| is euclidean distance\n",
    "            #euclidean(x,mu_ci), mu[0] = mu_c1, mu[1] = mu_c2\n",
    "            euclid = euclidean(x,mu[i-1].values)\n",
    "            g_ix = (-1) * (euclid**2)\n",
    "            #print(\"case2\")\n",
    "        else:\n",
    "            x_minus_mu = x.values - mu[i-1].values\n",
    "            inv_covmat = np.linalg.inv(cov[i-1].values)\n",
    "            l1 = np.dot(x_minus_mu.T, inv_covmat)\n",
    "            l2 = np.dot(l1, x_minus_mu)\n",
    "            r1 = np.log(np.linalg.det(cov[i-1].values))\n",
    "            \n",
    "            g_ix = (-1/2) * l2 - (1/2) * r1 + np.log(pc[i-1])\n",
    "            #print(\"case3\")\n",
    "        dis_func.append(g_ix)\n",
    "    #print(\"gi(x):\",dis_func)\n",
    "    if dis_func[0]>=dis_func[1]: #if g1(x) > g2(x), predict label is class1\n",
    "        predict_y = 0\n",
    "        #print(\"****************************************************\")\n",
    "        #return print(x.values.T,predict_y)\n",
    "        return x.values.T,predict_y #test values[x1 x2] and predict label [y]\n",
    "    else:   #if g1(x) < g2(x), predict label is class2\n",
    "        predict_y = 1\n",
    "        #print(\"****************************************************\")\n",
    "        #return print(x.values.T,predict_y)   \n",
    "        return x.values.T,predict_y #test values[x1 x2] and predict label [y]"
   ]
  },
  {
   "cell_type": "code",
   "execution_count": 36,
   "metadata": {},
   "outputs": [
    {
     "name": "stdout",
     "output_type": "stream",
     "text": [
      "rate: % 93.33333333333333\n",
      "rate: % 95.0\n",
      "rate: % 95.0\n",
      "rate: % 100.0\n",
      "rate: % 100.0\n",
      "accuracy: [93.33333333333333, 95.0, 95.0, 100.0, 100.0]\n"
     ]
    }
   ],
   "source": [
    "accuracy_model = []\n",
    "for train_index, test_index in kf.split(Xf1.values):\n",
    "    # Split train-test\n",
    "    X_train, X_test = Xf1.values[train_index], Xf1.values[test_index]\n",
    "    y_train, y_test = yf1.values[train_index], yf1.values[test_index]\n",
    "    \n",
    "    #print(X_train.shape)\n",
    "    #print(X_test.shape)\n",
    "    #print(train_index)\n",
    "    #print(\"***********************************************************\")\n",
    "    # Train the model and find class and calculate accuracy\n",
    "    X_train = pd.DataFrame(X_train, columns = ['x1', 'x2'])\n",
    "    X_test = pd.DataFrame(X_test, columns = ['x1', 'x2'])\n",
    "    y_train = pd.DataFrame(y_train, columns = ['y'])\n",
    "    y_test = pd.DataFrame(y_test, columns = ['y'])\n",
    "    \n",
    "    train = pd.concat([X_train,y_train], axis=1) \n",
    "    #test = pd.concat([X_test,y_test], axis=1)\n",
    "    count = 0\n",
    "    for i in range(0,X_test.shape[0]):\n",
    "        X_test_i = X_test.values[i] \n",
    "        X_test_i = pd.DataFrame(data=X_test_i)\n",
    "        x,y_pred = findclass(train,X_test_i)# findclass(df,x): df:train set, x:test value [x1 x2] and return predicted label.\n",
    "        y = y_test.values[i]\n",
    "        if y == y_pred:\n",
    "            count += 1\n",
    "    print(\"rate: %\", (count/X_test.shape[0])*100)\n",
    "    accuracy_model.append((count/X_test.shape[0])*100)\n",
    "print(\"accuracy:\",accuracy_model)\n",
    "    \n",
    "    "
   ]
  },
  {
   "cell_type": "code",
   "execution_count": 37,
   "metadata": {},
   "outputs": [
    {
     "name": "stdout",
     "output_type": "stream",
     "text": [
      "avarage accuracy: 96.66666666666666\n"
     ]
    }
   ],
   "source": [
    "avr_acc = np.mean(accuracy_model)\n",
    "print(\"avarage accuracy:\",avr_acc)"
   ]
  },
  {
   "cell_type": "markdown",
   "metadata": {},
   "source": [
    "## Part D: Redo the experiments on modified Dataset 2"
   ]
  },
  {
   "cell_type": "code",
   "execution_count": 38,
   "metadata": {},
   "outputs": [
    {
     "data": {
      "text/plain": [
       "8.999999999999998"
      ]
     },
     "execution_count": 38,
     "metadata": {},
     "output_type": "execute_result"
    }
   ],
   "source": [
    "a = [[5,3],[2,3]]\n",
    "np.linalg.det(a)"
   ]
  },
  {
   "cell_type": "code",
   "execution_count": 39,
   "metadata": {},
   "outputs": [
    {
     "data": {
      "text/plain": [
       "array([[ 0.33333333, -0.33333333],\n",
       "       [-0.22222222,  0.55555556]])"
      ]
     },
     "execution_count": 39,
     "metadata": {},
     "output_type": "execute_result"
    }
   ],
   "source": [
    "np.linalg.inv(a)"
   ]
  },
  {
   "cell_type": "code",
   "execution_count": null,
   "metadata": {},
   "outputs": [],
   "source": []
  },
  {
   "cell_type": "code",
   "execution_count": null,
   "metadata": {},
   "outputs": [],
   "source": []
  },
  {
   "cell_type": "code",
   "execution_count": 40,
   "metadata": {},
   "outputs": [
    {
     "name": "stdout",
     "output_type": "stream",
     "text": [
      "rate: % 98.0\n"
     ]
    }
   ],
   "source": [
    "count = 0\n",
    "for i in range(0,test1.shape[0]):\n",
    "    X_test_i = Xt1.values[i]\n",
    "    X_test_i = pd.DataFrame(data=X_test_i)\n",
    "    x,y_pred = findclass(df1,X_test_i)\n",
    "    y = test1[\"y\"].values[i]\n",
    "    if y == y_pred:\n",
    "        count += 1\n",
    "print(\"rate: %\", (count/test1.shape[0])*100)\n",
    "    #print(\"***************************\",test1[\"y\"].values[i])"
   ]
  },
  {
   "cell_type": "code",
   "execution_count": null,
   "metadata": {},
   "outputs": [],
   "source": []
  },
  {
   "cell_type": "code",
   "execution_count": 41,
   "metadata": {},
   "outputs": [
    {
     "data": {
      "text/html": [
       "<div>\n",
       "<style scoped>\n",
       "    .dataframe tbody tr th:only-of-type {\n",
       "        vertical-align: middle;\n",
       "    }\n",
       "\n",
       "    .dataframe tbody tr th {\n",
       "        vertical-align: top;\n",
       "    }\n",
       "\n",
       "    .dataframe thead th {\n",
       "        text-align: right;\n",
       "    }\n",
       "</style>\n",
       "<table border=\"1\" class=\"dataframe\">\n",
       "  <thead>\n",
       "    <tr style=\"text-align: right;\">\n",
       "      <th></th>\n",
       "      <th>x1</th>\n",
       "      <th>x2</th>\n",
       "      <th>y</th>\n",
       "    </tr>\n",
       "  </thead>\n",
       "  <tbody>\n",
       "    <tr>\n",
       "      <td>0</td>\n",
       "      <td>-0.260234</td>\n",
       "      <td>2.767817</td>\n",
       "      <td>0</td>\n",
       "    </tr>\n",
       "    <tr>\n",
       "      <td>1</td>\n",
       "      <td>3.466190</td>\n",
       "      <td>6.054691</td>\n",
       "      <td>1</td>\n",
       "    </tr>\n",
       "    <tr>\n",
       "      <td>2</td>\n",
       "      <td>-2.036224</td>\n",
       "      <td>4.491902</td>\n",
       "      <td>0</td>\n",
       "    </tr>\n",
       "    <tr>\n",
       "      <td>3</td>\n",
       "      <td>2.434426</td>\n",
       "      <td>6.638656</td>\n",
       "      <td>1</td>\n",
       "    </tr>\n",
       "    <tr>\n",
       "      <td>4</td>\n",
       "      <td>-0.541338</td>\n",
       "      <td>3.210246</td>\n",
       "      <td>0</td>\n",
       "    </tr>\n",
       "    <tr>\n",
       "      <td>...</td>\n",
       "      <td>...</td>\n",
       "      <td>...</td>\n",
       "      <td>...</td>\n",
       "    </tr>\n",
       "    <tr>\n",
       "      <td>235</td>\n",
       "      <td>2.842502</td>\n",
       "      <td>6.740511</td>\n",
       "      <td>1</td>\n",
       "    </tr>\n",
       "    <tr>\n",
       "      <td>236</td>\n",
       "      <td>-1.477077</td>\n",
       "      <td>2.388638</td>\n",
       "      <td>0</td>\n",
       "    </tr>\n",
       "    <tr>\n",
       "      <td>237</td>\n",
       "      <td>2.410858</td>\n",
       "      <td>8.014465</td>\n",
       "      <td>1</td>\n",
       "    </tr>\n",
       "    <tr>\n",
       "      <td>238</td>\n",
       "      <td>-1.886254</td>\n",
       "      <td>4.682919</td>\n",
       "      <td>0</td>\n",
       "    </tr>\n",
       "    <tr>\n",
       "      <td>239</td>\n",
       "      <td>-0.157498</td>\n",
       "      <td>3.740511</td>\n",
       "      <td>0</td>\n",
       "    </tr>\n",
       "  </tbody>\n",
       "</table>\n",
       "<p>240 rows × 3 columns</p>\n",
       "</div>"
      ],
      "text/plain": [
       "           x1        x2  y\n",
       "0   -0.260234  2.767817  0\n",
       "1    3.466190  6.054691  1\n",
       "2   -2.036224  4.491902  0\n",
       "3    2.434426  6.638656  1\n",
       "4   -0.541338  3.210246  0\n",
       "..        ...       ... ..\n",
       "235  2.842502  6.740511  1\n",
       "236 -1.477077  2.388638  0\n",
       "237  2.410858  8.014465  1\n",
       "238 -1.886254  4.682919  0\n",
       "239 -0.157498  3.740511  0\n",
       "\n",
       "[240 rows x 3 columns]"
      ]
     },
     "execution_count": 41,
     "metadata": {},
     "output_type": "execute_result"
    }
   ],
   "source": [
    "#findclass(df1,X_train[2])\n",
    "#X_train[2]\n",
    "#o = pd.DataFrame(X_train, columns = ['x1', 'x2']) #features of test 1\n",
    "X_train = pd.DataFrame(X_train, columns = ['x1', 'x2'])\n",
    "y_train = pd.DataFrame(y_train, columns = ['y'])\n",
    "pd.concat([X_train,y_train], axis=1)\n"
   ]
  },
  {
   "cell_type": "code",
   "execution_count": 42,
   "metadata": {},
   "outputs": [
    {
     "data": {
      "text/plain": [
       "False"
      ]
     },
     "execution_count": 42,
     "metadata": {},
     "output_type": "execute_result"
    }
   ],
   "source": [
    "not(True)"
   ]
  },
  {
   "cell_type": "code",
   "execution_count": 43,
   "metadata": {},
   "outputs": [
    {
     "data": {
      "text/html": [
       "<div>\n",
       "<style scoped>\n",
       "    .dataframe tbody tr th:only-of-type {\n",
       "        vertical-align: middle;\n",
       "    }\n",
       "\n",
       "    .dataframe tbody tr th {\n",
       "        vertical-align: top;\n",
       "    }\n",
       "\n",
       "    .dataframe thead th {\n",
       "        text-align: right;\n",
       "    }\n",
       "</style>\n",
       "<table border=\"1\" class=\"dataframe\">\n",
       "  <thead>\n",
       "    <tr style=\"text-align: right;\">\n",
       "      <th></th>\n",
       "      <th>0</th>\n",
       "      <th>1</th>\n",
       "    </tr>\n",
       "  </thead>\n",
       "  <tbody>\n",
       "    <tr>\n",
       "      <td>0</td>\n",
       "      <td>1.919709</td>\n",
       "      <td>0.856905</td>\n",
       "    </tr>\n",
       "    <tr>\n",
       "      <td>1</td>\n",
       "      <td>0.856905</td>\n",
       "      <td>2.835795</td>\n",
       "    </tr>\n",
       "  </tbody>\n",
       "</table>\n",
       "</div>"
      ],
      "text/plain": [
       "          0         1\n",
       "0  1.919709  0.856905\n",
       "1  0.856905  2.835795"
      ]
     },
     "execution_count": 43,
     "metadata": {},
     "output_type": "execute_result"
    }
   ],
   "source": [
    "cov21"
   ]
  },
  {
   "cell_type": "code",
   "execution_count": 44,
   "metadata": {},
   "outputs": [
    {
     "data": {
      "text/plain": [
       "0    0.856905\n",
       "1    2.835795\n",
       "Name: 1, dtype: float64"
      ]
     },
     "execution_count": 44,
     "metadata": {},
     "output_type": "execute_result"
    }
   ],
   "source": [
    "cov21[1]"
   ]
  },
  {
   "cell_type": "code",
   "execution_count": 45,
   "metadata": {},
   "outputs": [
    {
     "data": {
      "text/html": [
       "<div>\n",
       "<style scoped>\n",
       "    .dataframe tbody tr th:only-of-type {\n",
       "        vertical-align: middle;\n",
       "    }\n",
       "\n",
       "    .dataframe tbody tr th {\n",
       "        vertical-align: top;\n",
       "    }\n",
       "\n",
       "    .dataframe thead th {\n",
       "        text-align: right;\n",
       "    }\n",
       "</style>\n",
       "<table border=\"1\" class=\"dataframe\">\n",
       "  <thead>\n",
       "    <tr style=\"text-align: right;\">\n",
       "      <th></th>\n",
       "      <th>0</th>\n",
       "      <th>1</th>\n",
       "    </tr>\n",
       "  </thead>\n",
       "  <tbody>\n",
       "    <tr>\n",
       "      <td>0</td>\n",
       "      <td>0.996452</td>\n",
       "      <td>-0.817780</td>\n",
       "    </tr>\n",
       "    <tr>\n",
       "      <td>1</td>\n",
       "      <td>-0.817780</td>\n",
       "      <td>2.945942</td>\n",
       "    </tr>\n",
       "  </tbody>\n",
       "</table>\n",
       "</div>"
      ],
      "text/plain": [
       "          0         1\n",
       "0  0.996452 -0.817780\n",
       "1 -0.817780  2.945942"
      ]
     },
     "execution_count": 45,
     "metadata": {},
     "output_type": "execute_result"
    }
   ],
   "source": [
    "cov22"
   ]
  },
  {
   "cell_type": "code",
   "execution_count": 46,
   "metadata": {},
   "outputs": [
    {
     "data": {
      "text/plain": [
       "False"
      ]
     },
     "execution_count": 46,
     "metadata": {},
     "output_type": "execute_result"
    }
   ],
   "source": [
    "np.allclose(cov21[0][0],cov21[1][1]) and np.allclose(cov22[0][0],cov22[1][1])"
   ]
  },
  {
   "cell_type": "code",
   "execution_count": 47,
   "metadata": {},
   "outputs": [
    {
     "data": {
      "text/plain": [
       "True"
      ]
     },
     "execution_count": 47,
     "metadata": {},
     "output_type": "execute_result"
    }
   ],
   "source": [
    "True and True"
   ]
  },
  {
   "cell_type": "code",
   "execution_count": 48,
   "metadata": {},
   "outputs": [
    {
     "data": {
      "text/plain": [
       "1.9197089547949922"
      ]
     },
     "execution_count": 48,
     "metadata": {},
     "output_type": "execute_result"
    }
   ],
   "source": [
    "cov21[0][0]"
   ]
  },
  {
   "cell_type": "code",
   "execution_count": null,
   "metadata": {},
   "outputs": [],
   "source": []
  },
  {
   "cell_type": "code",
   "execution_count": null,
   "metadata": {},
   "outputs": [],
   "source": []
  },
  {
   "cell_type": "code",
   "execution_count": null,
   "metadata": {},
   "outputs": [],
   "source": []
  },
  {
   "cell_type": "code",
   "execution_count": 49,
   "metadata": {},
   "outputs": [
    {
     "name": "stdout",
     "output_type": "stream",
     "text": [
      "[[ 1.13557089 -0.37320387]\n",
      " [-0.37320387  2.08327195]]\n",
      "[[ 1.13557089 -0.37320387]\n",
      " [-0.37320387  2.08327195]]\n",
      "False\n",
      "       0     1\n",
      "0  False  True\n",
      "1   True  True\n",
      "True\n",
      "**************************************\n",
      "[[1.91970895 0.85690451]\n",
      " [0.85690451 2.83579458]]\n",
      "[[ 0.99645235 -0.81777973]\n",
      " [-0.81777973  2.94594199]]\n",
      "False\n",
      "       0      1\n",
      "0  False  False\n",
      "1  False  False\n",
      "False\n",
      "here\n"
     ]
    },
    {
     "data": {
      "text/plain": [
       "'\\n\\n\\nif np.array_equal(c[0],c[1]):\\n    print(\"here\")\\nelse:\\n    print(\"there is a problem!\")'"
      ]
     },
     "execution_count": 49,
     "metadata": {},
     "output_type": "execute_result"
    }
   ],
   "source": [
    "\n",
    "##Dizi karşılaştırması\n",
    "\n",
    "a = cov11\n",
    "b = cov12\n",
    "d = cov21\n",
    "e = cov22\n",
    "#print(a.values)\n",
    "c = []\n",
    "f = []\n",
    "\n",
    "c.append(a)\n",
    "c.append(b)\n",
    "\n",
    "\n",
    "print(c[0].values )\n",
    "print(c[1].values )\n",
    "\n",
    "print(np.array_equal(c[0].values,c[1].values))\n",
    "\n",
    "print((c[0]==c[1]))\n",
    "\n",
    "print(np.allclose(c[0],c[1]))\n",
    "\n",
    "print(\"**************************************\")\n",
    "\n",
    "f.append(d)\n",
    "f.append(e)\n",
    "\n",
    "print(f[0].values )\n",
    "print(f[1].values )\n",
    "\n",
    "\n",
    "print(np.array_equal(f[0].values,f[1].values))\n",
    "\n",
    "print((f[0]==f[1]))\n",
    "\n",
    "print(np.allclose(f[0],f[1]))\n",
    "\n",
    "if np.allclose(c[0],c[1]):\n",
    "    print(\"here\")\n",
    "else:\n",
    "    print(\"there is a problem!\")\n",
    "    \n",
    "\n",
    "\"\"\"\n",
    "\n",
    "\n",
    "if np.array_equal(c[0],c[1]):\n",
    "    print(\"here\")\n",
    "else:\n",
    "    print(\"there is a problem!\")\"\"\"\n",
    "    "
   ]
  },
  {
   "cell_type": "code",
   "execution_count": 50,
   "metadata": {},
   "outputs": [],
   "source": [
    "## "
   ]
  },
  {
   "cell_type": "code",
   "execution_count": null,
   "metadata": {},
   "outputs": [],
   "source": []
  },
  {
   "cell_type": "code",
   "execution_count": null,
   "metadata": {},
   "outputs": [],
   "source": []
  },
  {
   "cell_type": "markdown",
   "metadata": {},
   "source": [
    "## Part D: Redo the experiments on modified Dataset 2"
   ]
  },
  {
   "cell_type": "code",
   "execution_count": 51,
   "metadata": {},
   "outputs": [],
   "source": [
    "#Implement Part D:"
   ]
  },
  {
   "cell_type": "code",
   "execution_count": 52,
   "metadata": {},
   "outputs": [
    {
     "name": "stdout",
     "output_type": "stream",
     "text": [
      "[1]\n"
     ]
    }
   ],
   "source": [
    "from sklearn.discriminant_analysis import LinearDiscriminantAnalysis\n",
    "X = np.array([[-1, -1], [-2, -1], [-3, -2], [1, 1], [2, 1], [3, 2]])\n",
    "y = np.array([1, 1, 1, 2, 2, 2])\n",
    "clf = LinearDiscriminantAnalysis()\n",
    "clf.fit(X, y)\n",
    "\n",
    "print(clf.predict([[-0.8, -1]]))"
   ]
  },
  {
   "cell_type": "code",
   "execution_count": 53,
   "metadata": {},
   "outputs": [
    {
     "data": {
      "image/png": "[encoded data removed]",
      "text/plain": [
       "<Figure size 720x576 with 4 Axes>"
      ]
     },
     "metadata": {},
     "output_type": "display_data"
    }
   ],
   "source": [
    "from scipy import linalg\n",
    "import numpy as np\n",
    "import matplotlib.pyplot as plt\n",
    "import matplotlib as mpl\n",
    "from matplotlib import colors\n",
    "\n",
    "from sklearn.discriminant_analysis import LinearDiscriminantAnalysis\n",
    "from sklearn.discriminant_analysis import QuadraticDiscriminantAnalysis\n",
    "\n",
    "# #############################################################################\n",
    "# Colormap\n",
    "cmap = colors.LinearSegmentedColormap(\n",
    "    'red_blue_classes',\n",
    "    {'red': [(0, 1, 1), (1, 0.7, 0.7)],\n",
    "     'green': [(0, 0.7, 0.7), (1, 0.7, 0.7)],\n",
    "     'blue': [(0, 0.7, 0.7), (1, 1, 1)]})\n",
    "plt.cm.register_cmap(cmap=cmap)\n",
    "\n",
    "\n",
    "# #############################################################################\n",
    "# Generate datasets\n",
    "def dataset_fixed_cov():\n",
    "    '''Generate 2 Gaussians samples with the same covariance matrix'''\n",
    "    n, dim = 300, 2\n",
    "    np.random.seed(0)\n",
    "    C = np.array([[0., -0.23], [0.83, .23]])\n",
    "    X = np.r_[np.dot(np.random.randn(n, dim), C),\n",
    "              np.dot(np.random.randn(n, dim), C) + np.array([1, 1])]\n",
    "    y = np.hstack((np.zeros(n), np.ones(n)))\n",
    "    return X, y\n",
    "\n",
    "\n",
    "def dataset_cov():\n",
    "    '''Generate 2 Gaussians samples with different covariance matrices'''\n",
    "    n, dim = 300, 2\n",
    "    np.random.seed(0)\n",
    "    C = np.array([[0., -1.], [2.5, .7]]) * 2.\n",
    "    X = np.r_[np.dot(np.random.randn(n, dim), C),\n",
    "              np.dot(np.random.randn(n, dim), C.T) + np.array([1, 4])]\n",
    "    y = np.hstack((np.zeros(n), np.ones(n)))\n",
    "    return X, y\n",
    "\n",
    "\n",
    "# #############################################################################\n",
    "# Plot functions\n",
    "def plot_data(lda, X, y, y_pred, fig_index):\n",
    "    splot = plt.subplot(2, 2, fig_index)\n",
    "    if fig_index == 1:\n",
    "        plt.title('Linear Discriminant Analysis')\n",
    "        plt.ylabel('Data with\\n fixed covariance')\n",
    "    elif fig_index == 2:\n",
    "        plt.title('Quadratic Discriminant Analysis')\n",
    "    elif fig_index == 3:\n",
    "        plt.ylabel('Data with\\n varying covariances')\n",
    "\n",
    "    tp = (y == y_pred)  # True Positive\n",
    "    tp0, tp1 = tp[y == 0], tp[y == 1]\n",
    "    X0, X1 = X[y == 0], X[y == 1]\n",
    "    X0_tp, X0_fp = X0[tp0], X0[~tp0]\n",
    "    X1_tp, X1_fp = X1[tp1], X1[~tp1]\n",
    "\n",
    "    # class 0: dots\n",
    "    plt.scatter(X0_tp[:, 0], X0_tp[:, 1], marker='.', color='red')\n",
    "    plt.scatter(X0_fp[:, 0], X0_fp[:, 1], marker='x',\n",
    "                s=20, color='#990000')  # dark red\n",
    "\n",
    "    # class 1: dots\n",
    "    plt.scatter(X1_tp[:, 0], X1_tp[:, 1], marker='.', color='blue')\n",
    "    plt.scatter(X1_fp[:, 0], X1_fp[:, 1], marker='x',\n",
    "                s=20, color='#000099')  # dark blue\n",
    "\n",
    "    # class 0 and 1 : areas\n",
    "    nx, ny = 200, 100\n",
    "    x_min, x_max = plt.xlim()\n",
    "    y_min, y_max = plt.ylim()\n",
    "    xx, yy = np.meshgrid(np.linspace(x_min, x_max, nx),\n",
    "                         np.linspace(y_min, y_max, ny))\n",
    "    Z = lda.predict_proba(np.c_[xx.ravel(), yy.ravel()])\n",
    "    Z = Z[:, 1].reshape(xx.shape)\n",
    "    plt.pcolormesh(xx, yy, Z, cmap='red_blue_classes',\n",
    "                   norm=colors.Normalize(0., 1.), zorder=0)\n",
    "    plt.contour(xx, yy, Z, [0.5], linewidths=2., colors='white')\n",
    "\n",
    "    return splot\n",
    "\n",
    "\n",
    "plt.figure(figsize=(10, 8), facecolor='white')\n",
    "plt.suptitle('Linear Discriminant Analysis vs Quadratic Discriminant Analysis',\n",
    "             y=0.98, fontsize=15)\n",
    "for i, (X, y) in enumerate([dataset_fixed_cov(), dataset_cov()]):\n",
    "    # Linear Discriminant Analysis\n",
    "    lda = LinearDiscriminantAnalysis(solver=\"svd\", store_covariance=True)\n",
    "    y_pred = lda.fit(X, y).predict(X)\n",
    "    splot = plot_data(lda, X, y, y_pred, fig_index=2 * i + 1)\n",
    "    plt.axis('tight')\n",
    "\n",
    "    # Quadratic Discriminant Analysis\n",
    "    qda = QuadraticDiscriminantAnalysis(store_covariance=True)\n",
    "    y_pred = qda.fit(X, y).predict(X)\n",
    "    splot = plot_data(qda, X, y, y_pred, fig_index=2 * i + 2)\n",
    "    plt.axis('tight')\n",
    "plt.tight_layout()\n",
    "plt.subplots_adjust(top=0.92)\n",
    "plt.show()"
   ]
  },
  {
   "cell_type": "code",
   "execution_count": null,
   "metadata": {},
   "outputs": [],
   "source": []
  },
  {
   "cell_type": "code",
   "execution_count": 54,
   "metadata": {},
   "outputs": [
    {
     "data": {
      "image/png": "[encoded data removed]",
      "text/plain": [
       "<Figure size 720x576 with 1 Axes>"
      ]
     },
     "metadata": {},
     "output_type": "display_data"
    }
   ],
   "source": [
    "\n",
    "%matplotlib inline\n",
    "\n",
    "plt.figure(figsize=(10, 8), facecolor='white')\n",
    "Xa=X1.values\n",
    "#Xa = Xa.tolist()\n",
    "ya = y1[\"y\"].values\n",
    "#ya = ya.tolist()\n",
    "lda = LinearDiscriminantAnalysis(solver=\"svd\", store_covariance=True)\n",
    "y_pred = lda.fit(Xa, ya).predict(Xa)\n",
    "splot = plot_data(lda, Xa, ya, y_pred, fig_index=1)\n",
    "plt.axis('tight')\n",
    "plt.tight_layout()\n",
    "plt.subplots_adjust(top=0.92)\n",
    "plt.show()\n",
    "\n",
    "\n",
    "Xa=X2.values\n",
    "#Xa = Xa.tolist()\n",
    "ya = y2[\"y\"].values\n",
    "#ya = ya.tolist()"
   ]
  },
  {
   "cell_type": "code",
   "execution_count": null,
   "metadata": {},
   "outputs": [],
   "source": []
  },
  {
   "cell_type": "code",
   "execution_count": null,
   "metadata": {},
   "outputs": [],
   "source": []
  },
  {
   "cell_type": "code",
   "execution_count": null,
   "metadata": {},
   "outputs": [],
   "source": []
  },
  {
   "cell_type": "code",
   "execution_count": null,
   "metadata": {},
   "outputs": [],
   "source": []
  },
  {
   "cell_type": "code",
   "execution_count": null,
   "metadata": {},
   "outputs": [],
   "source": []
  },
  {
   "cell_type": "code",
   "execution_count": null,
   "metadata": {},
   "outputs": [],
   "source": []
  },
  {
   "cell_type": "code",
   "execution_count": null,
   "metadata": {},
   "outputs": [],
   "source": []
  },
  {
   "cell_type": "code",
   "execution_count": null,
   "metadata": {},
   "outputs": [],
   "source": []
  },
  {
   "cell_type": "code",
   "execution_count": null,
   "metadata": {},
   "outputs": [],
   "source": []
  },
  {
   "cell_type": "code",
   "execution_count": null,
   "metadata": {},
   "outputs": [],
   "source": []
  },
  {
   "cell_type": "code",
   "execution_count": null,
   "metadata": {},
   "outputs": [],
   "source": [
    "X = df1[[\"x1\",\"x2\"]].values\n",
    "y = df1['y'].values\n",
    "X,y\n",
    "X[y==1].shape,X[y==0].shape\n"
   ]
  },
  {
   "cell_type": "code",
   "execution_count": null,
   "metadata": {},
   "outputs": [],
   "source": [
    "mean_vectors = []\n",
    "for cl in range(0,2):\n",
    "    mean_vectors.append(np.mean(X[y==cl], axis=0))\n",
    "    print('Mean Vector class %s: %s\\n' %(cl, mean_vectors[cl]))"
   ]
  },
  {
   "cell_type": "code",
   "execution_count": null,
   "metadata": {},
   "outputs": [],
   "source": [
    "S_W = np.zeros((2,2))\n",
    "for cl,mv in zip(range(0,2), mean_vectors):\n",
    "    class_sc_mat = np.zeros((2,2))                  # scatter matrix for every class\n",
    "    for row in X[y == cl]:\n",
    "        row, mv = row.reshape(2,1), mv.reshape(2,1) # make column vectors\n",
    "        class_sc_mat += (row-mv).dot((row-mv).T)\n",
    "    S_W += class_sc_mat                             # sum class scatter matrices\n",
    "print('within-class Scatter Matrix:\\n', S_W)"
   ]
  },
  {
   "cell_type": "code",
   "execution_count": null,
   "metadata": {},
   "outputs": [],
   "source": [
    "overall_mean = np.mean(X, axis=0)\n",
    "\n",
    "S_B = np.zeros((2,2))\n",
    "for i,mean_vec in enumerate(mean_vectors):  \n",
    "    n = X[y==i+1,:].shape[0]\n",
    "    mean_vec = mean_vec.reshape(2,1) # make column vector\n",
    "    overall_mean = overall_mean.reshape(2,1) # make column vector\n",
    "    S_B += n * (mean_vec - overall_mean).dot((mean_vec - overall_mean).T)\n",
    "\n",
    "print('between-class Scatter Matrix:\\n', S_B)\n"
   ]
  },
  {
   "cell_type": "code",
   "execution_count": null,
   "metadata": {},
   "outputs": [],
   "source": [
    "eig_vals, eig_vecs = np.linalg.eig(np.linalg.inv(S_W).dot(S_B))\n",
    "\n",
    "for i in range(len(eig_vals)):\n",
    "    eigvec_sc = eig_vecs[:,i].reshape(2,1)   \n",
    "    print('\\nEigenvector {}: \\n{}'.format(i+1, eigvec_sc.real))\n",
    "    print('Eigenvalue {:}: {:.2e}'.format(i+1, eig_vals[i].real))"
   ]
  },
  {
   "cell_type": "code",
   "execution_count": null,
   "metadata": {},
   "outputs": [],
   "source": [
    "for i in range(len(eig_vals)):\n",
    "    eigv = eig_vecs[:,i].reshape(2,1)\n",
    "    np.testing.assert_array_almost_equal(np.linalg.inv(S_W).dot(S_B).dot(eigv),\n",
    "                                         eig_vals[i] * eigv,\n",
    "                                         decimal=6, err_msg='', verbose=True)\n",
    "print('ok')"
   ]
  },
  {
   "cell_type": "code",
   "execution_count": null,
   "metadata": {},
   "outputs": [],
   "source": [
    "# Make a list of (eigenvalue, eigenvector) tuples\n",
    "eig_pairs = [(np.abs(eig_vals[i]), eig_vecs[:,i]) for i in range(len(eig_vals))]\n",
    "\n",
    "# Sort the (eigenvalue, eigenvector) tuples from high to low\n",
    "eig_pairs = sorted(eig_pairs, key=lambda k: k[0], reverse=True)\n",
    "\n",
    "# Visually confirm that the list is correctly sorted by decreasing eigenvalues\n",
    "\n",
    "print('Eigenvalues in decreasing order:\\n')\n",
    "for i in eig_pairs:\n",
    "    print(i[0])"
   ]
  },
  {
   "cell_type": "code",
   "execution_count": null,
   "metadata": {},
   "outputs": [],
   "source": [
    "print('Variance explained:\\n')\n",
    "eigv_sum = sum(eig_vals)\n",
    "for i,j in enumerate(eig_pairs):\n",
    "    print('eigenvalue {0:}: {1:.2%}'.format(i+1, (j[0]/eigv_sum).real))"
   ]
  },
  {
   "cell_type": "code",
   "execution_count": null,
   "metadata": {},
   "outputs": [],
   "source": [
    "W = np.hstack((eig_pairs[0][1].reshape(2,1), eig_pairs[1][1].reshape(2,1)))\n",
    "print('Matrix W:\\n', W.real)"
   ]
  },
  {
   "cell_type": "code",
   "execution_count": null,
   "metadata": {},
   "outputs": [],
   "source": [
    "X_lda = X.dot(W)\n",
    "assert X_lda.shape == (150,2), \"The matrix is not 150x2 dimensional.\""
   ]
  },
  {
   "cell_type": "code",
   "execution_count": null,
   "metadata": {},
   "outputs": [],
   "source": [
    "from matplotlib import pyplot as plt\n",
    "\n",
    "def plot_step_lda():\n",
    "\n",
    "    ax = plt.subplot(111)\n",
    "    for label,marker,color in zip(\n",
    "        range(0,2),('^', 's'),('blue', 'red')):\n",
    "\n",
    "        plt.scatter(x=X_lda[:,0].real[y == label],\n",
    "                y=X_lda[:,1].real[y == label],\n",
    "                marker=marker,\n",
    "                color=color,\n",
    "                alpha=0.5,\n",
    "                label=y[label])\n",
    "\n",
    "    plt.xlabel('LD1')\n",
    "    plt.ylabel('LD2')\n",
    "\n",
    "    leg = plt.legend(loc='upper right', fancybox=True)\n",
    "    leg.get_frame().set_alpha(0.3)\n",
    "    plt.title('LDA: Iris projection onto the first 2 linear discriminants')\n",
    "\n",
    "    # hide axis ticks\n",
    "    plt.tick_params(axis=\"both\", which=\"both\", bottom=\"off\", top=\"off\",  \n",
    "            labelbottom=\"on\", left=\"off\", right=\"off\", labelleft=\"on\")\n",
    "\n",
    "    # remove axis spines\n",
    "    ax.spines[\"top\"].set_visible(False)  \n",
    "    ax.spines[\"right\"].set_visible(False)\n",
    "    ax.spines[\"bottom\"].set_visible(False)\n",
    "    ax.spines[\"left\"].set_visible(False)    \n",
    "\n",
    "    plt.grid()\n",
    "    plt.tight_layout\n",
    "    plt.show()\n",
    "\n",
    "plot_step_lda()"
   ]
  },
  {
   "cell_type": "code",
   "execution_count": null,
   "metadata": {},
   "outputs": [],
   "source": []
  },
  {
   "cell_type": "code",
   "execution_count": null,
   "metadata": {},
   "outputs": [],
   "source": []
  }
 ],
 "metadata": {
  "kernelspec": {
   "display_name": "Python 3",
   "language": "python",
   "name": "python3"
  },
  "language_info": {
   "codemirror_mode": {
    "name": "ipython",
    "version": 3
   },
   "file_extension": ".py",
   "mimetype": "text/x-python",
   "name": "python",
   "nbconvert_exporter": "python",
   "pygments_lexer": "ipython3",
   "version": "3.7.4"
  }
 },
 "nbformat": 4,
 "nbformat_minor": 4
}
